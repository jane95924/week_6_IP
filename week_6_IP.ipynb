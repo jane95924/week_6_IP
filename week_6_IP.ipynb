{
  "nbformat": 4,
  "nbformat_minor": 0,
  "metadata": {
    "colab": {
      "name": "week_6_IP",
      "provenance": [],
      "collapsed_sections": [],
      "authorship_tag": "ABX9TyPtrbxO+4DaxVF9JWscThcq",
      "include_colab_link": true
    },
    "kernelspec": {
      "name": "python3",
      "display_name": "Python 3"
    }
  },
  "cells": [
    {
      "cell_type": "markdown",
      "metadata": {
        "id": "view-in-github",
        "colab_type": "text"
      },
      "source": [
        "<a href=\"https://colab.research.google.com/github/jane95924/week_6_IP/blob/master/week_6_IP.ipynb\" target=\"_parent\"><img src=\"https://colab.research.google.com/assets/colab-badge.svg\" alt=\"Open In Colab\"/></a>"
      ]
    },
    {
      "cell_type": "markdown",
      "metadata": {
        "id": "VtOKLlOci397",
        "colab_type": "text"
      },
      "source": [
        "DOCUMENTATION\n"
      ]
    },
    {
      "cell_type": "markdown",
      "metadata": {
        "id": "S1VQjhKSi74G",
        "colab_type": "text"
      },
      "source": [
        "INTRODUCTION\n",
        "\n",
        "a) Specifying the question\n",
        "\n",
        "predict results if Team 1 and Team 2 based on who is home and who is away, and on whether the game is friendly\n",
        "\n",
        "b) Metric of success\n",
        "\n",
        " The model will be considered a success if we are able to predict accurately the outcomes of the game. an accuracy of 80% is good to be able to have an accurate prediction. an RMSE of 10% is good for the variable mean.\n",
        " \n",
        "\n",
        " c). Context\n",
        "\n",
        " You have been recruited as a football analyst in a company - Mchezopesa Ltd and tasked to accomplish the task below.\n",
        "\n",
        "A prediction result of a game between team 1 and team 2, based on who's home and who's away, and on whether or not the game is friendly (include rank in your training).\n",
        "\n",
        "You have two possible approaches (as  shown below) given the datasets that will be provided\n",
        "\n",
        "Input: Home team, Away team, Tournament type (World cup, Friendly, Other)\n",
        "\n",
        "Approach 1: Polynomial approach\n",
        "\n",
        "What to train given:\n",
        "\n",
        "Rank of home team\n",
        "Rank of away team\n",
        "Tournament type\n",
        "Model 1: Predict how many goals the home team scores.\n",
        "\n",
        "Model 2: Predict how many goals the away team scores.\n",
        "\n",
        "Approach 2: Logistic approach\n",
        "\n",
        "Feature Engineering: Figure out from the home team’s perspective if the game is a Win, Lose or Draw (W, L, D)\n",
        "\n",
        " d) Experimental design\n",
        " I will carry out the following steps to solve the question\n",
        "    \n",
        "\n",
        "*   import libraries, load data, clean the data\n",
        "*   perform EDA\n",
        "\n",
        "*   perform any feature engineering\n",
        "*   check multicolinearity\n",
        "\n",
        "\n",
        "*   build the model \n",
        "*   cross validate the model\n",
        "\n",
        "\n",
        "*   compute RMSE\n",
        "*   assess heteroskedacity\n",
        "\n",
        "*   perform logistic and linear regression\n",
        "*   make conclusions and challenge the answer\n",
        "\n",
        "\n",
        "\n",
        "\n",
        "\n",
        "\n",
        "\n",
        "\n",
        "\n",
        "\n",
        "\n",
        "\n"
      ]
    },
    {
      "cell_type": "code",
      "metadata": {
        "id": "2VT0YvDbetQD",
        "colab_type": "code",
        "colab": {
          "base_uri": "https://localhost:8080/",
          "height": 74
        },
        "outputId": "e821da9b-19d9-4f69-c8e6-a4300d8cf8f4"
      },
      "source": [
        "#importing our libraries\n",
        "import pandas as pd\n",
        "import numpy as np\n",
        "import matplotlib.pyplot as plt\n",
        "%matplotlib inline\n",
        "import scipy as sp\n",
        "import seaborn as sns\n",
        "\n",
        "\n",
        "\n",
        "from sklearn import metrics\n",
        "from sklearn.linear_model import LinearRegression\n",
        "from sklearn.linear_model import LogisticRegression\n",
        "from sklearn.preprocessing import PolynomialFeatures\n",
        "from sklearn.preprocessing import LabelEncoder\n",
        "\n",
        "from sklearn.model_selection import cross_val_score\n",
        "from sklearn.model_selection import KFold\n",
        "from sklearn.model_selection import train_test_split\n",
        "from sklearn.neighbors import KNeighborsClassifier\n"
      ],
      "execution_count": 1,
      "outputs": [
        {
          "output_type": "stream",
          "text": [
            "/usr/local/lib/python3.6/dist-packages/statsmodels/tools/_testing.py:19: FutureWarning: pandas.util.testing is deprecated. Use the functions in the public API at pandas.testing instead.\n",
            "  import pandas.util.testing as tm\n"
          ],
          "name": "stderr"
        }
      ]
    },
    {
      "cell_type": "code",
      "metadata": {
        "id": "sOYLtCEegm3Z",
        "colab_type": "code",
        "colab": {
          "base_uri": "https://localhost:8080/",
          "height": 600
        },
        "outputId": "cd67b19d-ad3a-4677-d3a7-3b515222f6bb"
      },
      "source": [
        "#loading our fifa_ranking dataset\n",
        "fifa_ranking = pd.read_csv('/content/fifa_ranking.csv')\n",
        "fifa_ranking"
      ],
      "execution_count": 2,
      "outputs": [
        {
          "output_type": "execute_result",
          "data": {
            "text/html": [
              "<div>\n",
              "<style scoped>\n",
              "    .dataframe tbody tr th:only-of-type {\n",
              "        vertical-align: middle;\n",
              "    }\n",
              "\n",
              "    .dataframe tbody tr th {\n",
              "        vertical-align: top;\n",
              "    }\n",
              "\n",
              "    .dataframe thead th {\n",
              "        text-align: right;\n",
              "    }\n",
              "</style>\n",
              "<table border=\"1\" class=\"dataframe\">\n",
              "  <thead>\n",
              "    <tr style=\"text-align: right;\">\n",
              "      <th></th>\n",
              "      <th>rank</th>\n",
              "      <th>country_full</th>\n",
              "      <th>country_abrv</th>\n",
              "      <th>total_points</th>\n",
              "      <th>previous_points</th>\n",
              "      <th>rank_change</th>\n",
              "      <th>cur_year_avg</th>\n",
              "      <th>cur_year_avg_weighted</th>\n",
              "      <th>last_year_avg</th>\n",
              "      <th>last_year_avg_weighted</th>\n",
              "      <th>two_year_ago_avg</th>\n",
              "      <th>two_year_ago_weighted</th>\n",
              "      <th>three_year_ago_avg</th>\n",
              "      <th>three_year_ago_weighted</th>\n",
              "      <th>confederation</th>\n",
              "      <th>rank_date</th>\n",
              "    </tr>\n",
              "  </thead>\n",
              "  <tbody>\n",
              "    <tr>\n",
              "      <th>0</th>\n",
              "      <td>1</td>\n",
              "      <td>Germany</td>\n",
              "      <td>GER</td>\n",
              "      <td>0.0</td>\n",
              "      <td>57</td>\n",
              "      <td>0</td>\n",
              "      <td>0.0</td>\n",
              "      <td>0.0</td>\n",
              "      <td>0.0</td>\n",
              "      <td>0.0</td>\n",
              "      <td>0.0</td>\n",
              "      <td>0.0</td>\n",
              "      <td>0.0</td>\n",
              "      <td>0.0</td>\n",
              "      <td>UEFA</td>\n",
              "      <td>1993-08-08</td>\n",
              "    </tr>\n",
              "    <tr>\n",
              "      <th>1</th>\n",
              "      <td>2</td>\n",
              "      <td>Italy</td>\n",
              "      <td>ITA</td>\n",
              "      <td>0.0</td>\n",
              "      <td>57</td>\n",
              "      <td>0</td>\n",
              "      <td>0.0</td>\n",
              "      <td>0.0</td>\n",
              "      <td>0.0</td>\n",
              "      <td>0.0</td>\n",
              "      <td>0.0</td>\n",
              "      <td>0.0</td>\n",
              "      <td>0.0</td>\n",
              "      <td>0.0</td>\n",
              "      <td>UEFA</td>\n",
              "      <td>1993-08-08</td>\n",
              "    </tr>\n",
              "    <tr>\n",
              "      <th>2</th>\n",
              "      <td>3</td>\n",
              "      <td>Switzerland</td>\n",
              "      <td>SUI</td>\n",
              "      <td>0.0</td>\n",
              "      <td>50</td>\n",
              "      <td>9</td>\n",
              "      <td>0.0</td>\n",
              "      <td>0.0</td>\n",
              "      <td>0.0</td>\n",
              "      <td>0.0</td>\n",
              "      <td>0.0</td>\n",
              "      <td>0.0</td>\n",
              "      <td>0.0</td>\n",
              "      <td>0.0</td>\n",
              "      <td>UEFA</td>\n",
              "      <td>1993-08-08</td>\n",
              "    </tr>\n",
              "    <tr>\n",
              "      <th>3</th>\n",
              "      <td>4</td>\n",
              "      <td>Sweden</td>\n",
              "      <td>SWE</td>\n",
              "      <td>0.0</td>\n",
              "      <td>55</td>\n",
              "      <td>0</td>\n",
              "      <td>0.0</td>\n",
              "      <td>0.0</td>\n",
              "      <td>0.0</td>\n",
              "      <td>0.0</td>\n",
              "      <td>0.0</td>\n",
              "      <td>0.0</td>\n",
              "      <td>0.0</td>\n",
              "      <td>0.0</td>\n",
              "      <td>UEFA</td>\n",
              "      <td>1993-08-08</td>\n",
              "    </tr>\n",
              "    <tr>\n",
              "      <th>4</th>\n",
              "      <td>5</td>\n",
              "      <td>Argentina</td>\n",
              "      <td>ARG</td>\n",
              "      <td>0.0</td>\n",
              "      <td>51</td>\n",
              "      <td>5</td>\n",
              "      <td>0.0</td>\n",
              "      <td>0.0</td>\n",
              "      <td>0.0</td>\n",
              "      <td>0.0</td>\n",
              "      <td>0.0</td>\n",
              "      <td>0.0</td>\n",
              "      <td>0.0</td>\n",
              "      <td>0.0</td>\n",
              "      <td>CONMEBOL</td>\n",
              "      <td>1993-08-08</td>\n",
              "    </tr>\n",
              "    <tr>\n",
              "      <th>...</th>\n",
              "      <td>...</td>\n",
              "      <td>...</td>\n",
              "      <td>...</td>\n",
              "      <td>...</td>\n",
              "      <td>...</td>\n",
              "      <td>...</td>\n",
              "      <td>...</td>\n",
              "      <td>...</td>\n",
              "      <td>...</td>\n",
              "      <td>...</td>\n",
              "      <td>...</td>\n",
              "      <td>...</td>\n",
              "      <td>...</td>\n",
              "      <td>...</td>\n",
              "      <td>...</td>\n",
              "      <td>...</td>\n",
              "    </tr>\n",
              "    <tr>\n",
              "      <th>57788</th>\n",
              "      <td>206</td>\n",
              "      <td>Anguilla</td>\n",
              "      <td>AIA</td>\n",
              "      <td>0.0</td>\n",
              "      <td>0</td>\n",
              "      <td>1</td>\n",
              "      <td>0.0</td>\n",
              "      <td>0.0</td>\n",
              "      <td>0.0</td>\n",
              "      <td>0.0</td>\n",
              "      <td>0.0</td>\n",
              "      <td>0.0</td>\n",
              "      <td>0.0</td>\n",
              "      <td>0.0</td>\n",
              "      <td>CONCACAF</td>\n",
              "      <td>2018-06-07</td>\n",
              "    </tr>\n",
              "    <tr>\n",
              "      <th>57789</th>\n",
              "      <td>206</td>\n",
              "      <td>Bahamas</td>\n",
              "      <td>BAH</td>\n",
              "      <td>0.0</td>\n",
              "      <td>0</td>\n",
              "      <td>1</td>\n",
              "      <td>0.0</td>\n",
              "      <td>0.0</td>\n",
              "      <td>0.0</td>\n",
              "      <td>0.0</td>\n",
              "      <td>0.0</td>\n",
              "      <td>0.0</td>\n",
              "      <td>0.0</td>\n",
              "      <td>0.0</td>\n",
              "      <td>CONCACAF</td>\n",
              "      <td>2018-06-07</td>\n",
              "    </tr>\n",
              "    <tr>\n",
              "      <th>57790</th>\n",
              "      <td>206</td>\n",
              "      <td>Eritrea</td>\n",
              "      <td>ERI</td>\n",
              "      <td>0.0</td>\n",
              "      <td>0</td>\n",
              "      <td>1</td>\n",
              "      <td>0.0</td>\n",
              "      <td>0.0</td>\n",
              "      <td>0.0</td>\n",
              "      <td>0.0</td>\n",
              "      <td>0.0</td>\n",
              "      <td>0.0</td>\n",
              "      <td>0.0</td>\n",
              "      <td>0.0</td>\n",
              "      <td>CAF</td>\n",
              "      <td>2018-06-07</td>\n",
              "    </tr>\n",
              "    <tr>\n",
              "      <th>57791</th>\n",
              "      <td>206</td>\n",
              "      <td>Somalia</td>\n",
              "      <td>SOM</td>\n",
              "      <td>0.0</td>\n",
              "      <td>0</td>\n",
              "      <td>1</td>\n",
              "      <td>0.0</td>\n",
              "      <td>0.0</td>\n",
              "      <td>0.0</td>\n",
              "      <td>0.0</td>\n",
              "      <td>0.0</td>\n",
              "      <td>0.0</td>\n",
              "      <td>0.0</td>\n",
              "      <td>0.0</td>\n",
              "      <td>CAF</td>\n",
              "      <td>2018-06-07</td>\n",
              "    </tr>\n",
              "    <tr>\n",
              "      <th>57792</th>\n",
              "      <td>206</td>\n",
              "      <td>Tonga</td>\n",
              "      <td>TGA</td>\n",
              "      <td>0.0</td>\n",
              "      <td>0</td>\n",
              "      <td>1</td>\n",
              "      <td>0.0</td>\n",
              "      <td>0.0</td>\n",
              "      <td>0.0</td>\n",
              "      <td>0.0</td>\n",
              "      <td>0.0</td>\n",
              "      <td>0.0</td>\n",
              "      <td>0.0</td>\n",
              "      <td>0.0</td>\n",
              "      <td>OFC</td>\n",
              "      <td>2018-06-07</td>\n",
              "    </tr>\n",
              "  </tbody>\n",
              "</table>\n",
              "<p>57793 rows × 16 columns</p>\n",
              "</div>"
            ],
            "text/plain": [
              "       rank country_full  ... confederation   rank_date\n",
              "0         1      Germany  ...          UEFA  1993-08-08\n",
              "1         2        Italy  ...          UEFA  1993-08-08\n",
              "2         3  Switzerland  ...          UEFA  1993-08-08\n",
              "3         4       Sweden  ...          UEFA  1993-08-08\n",
              "4         5    Argentina  ...      CONMEBOL  1993-08-08\n",
              "...     ...          ...  ...           ...         ...\n",
              "57788   206     Anguilla  ...      CONCACAF  2018-06-07\n",
              "57789   206      Bahamas  ...      CONCACAF  2018-06-07\n",
              "57790   206      Eritrea  ...           CAF  2018-06-07\n",
              "57791   206      Somalia  ...           CAF  2018-06-07\n",
              "57792   206        Tonga  ...           OFC  2018-06-07\n",
              "\n",
              "[57793 rows x 16 columns]"
            ]
          },
          "metadata": {
            "tags": []
          },
          "execution_count": 2
        }
      ]
    },
    {
      "cell_type": "code",
      "metadata": {
        "id": "fkXdV4xng31M",
        "colab_type": "code",
        "colab": {
          "base_uri": "https://localhost:8080/",
          "height": 580
        },
        "outputId": "b10519b0-b7d5-4e89-d2d2-526a8a463378"
      },
      "source": [
        "#loading our results dataset and previewing it\n",
        "results = pd. read_csv('/content/results.csv')\n",
        "results"
      ],
      "execution_count": 3,
      "outputs": [
        {
          "output_type": "execute_result",
          "data": {
            "text/html": [
              "<div>\n",
              "<style scoped>\n",
              "    .dataframe tbody tr th:only-of-type {\n",
              "        vertical-align: middle;\n",
              "    }\n",
              "\n",
              "    .dataframe tbody tr th {\n",
              "        vertical-align: top;\n",
              "    }\n",
              "\n",
              "    .dataframe thead th {\n",
              "        text-align: right;\n",
              "    }\n",
              "</style>\n",
              "<table border=\"1\" class=\"dataframe\">\n",
              "  <thead>\n",
              "    <tr style=\"text-align: right;\">\n",
              "      <th></th>\n",
              "      <th>date</th>\n",
              "      <th>home_team</th>\n",
              "      <th>away_team</th>\n",
              "      <th>home_score</th>\n",
              "      <th>away_score</th>\n",
              "      <th>tournament</th>\n",
              "      <th>city</th>\n",
              "      <th>country</th>\n",
              "      <th>neutral</th>\n",
              "    </tr>\n",
              "  </thead>\n",
              "  <tbody>\n",
              "    <tr>\n",
              "      <th>0</th>\n",
              "      <td>1872-11-30</td>\n",
              "      <td>Scotland</td>\n",
              "      <td>England</td>\n",
              "      <td>0</td>\n",
              "      <td>0</td>\n",
              "      <td>Friendly</td>\n",
              "      <td>Glasgow</td>\n",
              "      <td>Scotland</td>\n",
              "      <td>False</td>\n",
              "    </tr>\n",
              "    <tr>\n",
              "      <th>1</th>\n",
              "      <td>1873-03-08</td>\n",
              "      <td>England</td>\n",
              "      <td>Scotland</td>\n",
              "      <td>4</td>\n",
              "      <td>2</td>\n",
              "      <td>Friendly</td>\n",
              "      <td>London</td>\n",
              "      <td>England</td>\n",
              "      <td>False</td>\n",
              "    </tr>\n",
              "    <tr>\n",
              "      <th>2</th>\n",
              "      <td>1874-03-07</td>\n",
              "      <td>Scotland</td>\n",
              "      <td>England</td>\n",
              "      <td>2</td>\n",
              "      <td>1</td>\n",
              "      <td>Friendly</td>\n",
              "      <td>Glasgow</td>\n",
              "      <td>Scotland</td>\n",
              "      <td>False</td>\n",
              "    </tr>\n",
              "    <tr>\n",
              "      <th>3</th>\n",
              "      <td>1875-03-06</td>\n",
              "      <td>England</td>\n",
              "      <td>Scotland</td>\n",
              "      <td>2</td>\n",
              "      <td>2</td>\n",
              "      <td>Friendly</td>\n",
              "      <td>London</td>\n",
              "      <td>England</td>\n",
              "      <td>False</td>\n",
              "    </tr>\n",
              "    <tr>\n",
              "      <th>4</th>\n",
              "      <td>1876-03-04</td>\n",
              "      <td>Scotland</td>\n",
              "      <td>England</td>\n",
              "      <td>3</td>\n",
              "      <td>0</td>\n",
              "      <td>Friendly</td>\n",
              "      <td>Glasgow</td>\n",
              "      <td>Scotland</td>\n",
              "      <td>False</td>\n",
              "    </tr>\n",
              "    <tr>\n",
              "      <th>...</th>\n",
              "      <td>...</td>\n",
              "      <td>...</td>\n",
              "      <td>...</td>\n",
              "      <td>...</td>\n",
              "      <td>...</td>\n",
              "      <td>...</td>\n",
              "      <td>...</td>\n",
              "      <td>...</td>\n",
              "      <td>...</td>\n",
              "    </tr>\n",
              "    <tr>\n",
              "      <th>40834</th>\n",
              "      <td>2019-07-18</td>\n",
              "      <td>American Samoa</td>\n",
              "      <td>Tahiti</td>\n",
              "      <td>8</td>\n",
              "      <td>1</td>\n",
              "      <td>Pacific Games</td>\n",
              "      <td>Apia</td>\n",
              "      <td>Samoa</td>\n",
              "      <td>True</td>\n",
              "    </tr>\n",
              "    <tr>\n",
              "      <th>40835</th>\n",
              "      <td>2019-07-18</td>\n",
              "      <td>Fiji</td>\n",
              "      <td>Solomon Islands</td>\n",
              "      <td>4</td>\n",
              "      <td>4</td>\n",
              "      <td>Pacific Games</td>\n",
              "      <td>Apia</td>\n",
              "      <td>Samoa</td>\n",
              "      <td>True</td>\n",
              "    </tr>\n",
              "    <tr>\n",
              "      <th>40836</th>\n",
              "      <td>2019-07-19</td>\n",
              "      <td>Senegal</td>\n",
              "      <td>Algeria</td>\n",
              "      <td>0</td>\n",
              "      <td>1</td>\n",
              "      <td>African Cup of Nations</td>\n",
              "      <td>Cairo</td>\n",
              "      <td>Egypt</td>\n",
              "      <td>True</td>\n",
              "    </tr>\n",
              "    <tr>\n",
              "      <th>40837</th>\n",
              "      <td>2019-07-19</td>\n",
              "      <td>Tajikistan</td>\n",
              "      <td>North Korea</td>\n",
              "      <td>0</td>\n",
              "      <td>1</td>\n",
              "      <td>Intercontinental Cup</td>\n",
              "      <td>Ahmedabad</td>\n",
              "      <td>India</td>\n",
              "      <td>True</td>\n",
              "    </tr>\n",
              "    <tr>\n",
              "      <th>40838</th>\n",
              "      <td>2019-07-20</td>\n",
              "      <td>Papua New Guinea</td>\n",
              "      <td>Fiji</td>\n",
              "      <td>1</td>\n",
              "      <td>1</td>\n",
              "      <td>Pacific Games</td>\n",
              "      <td>Apia</td>\n",
              "      <td>Samoa</td>\n",
              "      <td>True</td>\n",
              "    </tr>\n",
              "  </tbody>\n",
              "</table>\n",
              "<p>40839 rows × 9 columns</p>\n",
              "</div>"
            ],
            "text/plain": [
              "             date         home_team  ...   country  neutral\n",
              "0      1872-11-30          Scotland  ...  Scotland    False\n",
              "1      1873-03-08           England  ...   England    False\n",
              "2      1874-03-07          Scotland  ...  Scotland    False\n",
              "3      1875-03-06           England  ...   England    False\n",
              "4      1876-03-04          Scotland  ...  Scotland    False\n",
              "...           ...               ...  ...       ...      ...\n",
              "40834  2019-07-18    American Samoa  ...     Samoa     True\n",
              "40835  2019-07-18              Fiji  ...     Samoa     True\n",
              "40836  2019-07-19           Senegal  ...     Egypt     True\n",
              "40837  2019-07-19        Tajikistan  ...     India     True\n",
              "40838  2019-07-20  Papua New Guinea  ...     Samoa     True\n",
              "\n",
              "[40839 rows x 9 columns]"
            ]
          },
          "metadata": {
            "tags": []
          },
          "execution_count": 3
        }
      ]
    },
    {
      "cell_type": "code",
      "metadata": {
        "id": "ks7iIg50hAsF",
        "colab_type": "code",
        "colab": {
          "base_uri": "https://localhost:8080/",
          "height": 435
        },
        "outputId": "54863c3e-e67b-4db6-902b-bc5ef5095f5b"
      },
      "source": [
        "#check fifa ranking info\n",
        "fifa_ranking.info()"
      ],
      "execution_count": 4,
      "outputs": [
        {
          "output_type": "stream",
          "text": [
            "<class 'pandas.core.frame.DataFrame'>\n",
            "RangeIndex: 57793 entries, 0 to 57792\n",
            "Data columns (total 16 columns):\n",
            " #   Column                   Non-Null Count  Dtype  \n",
            "---  ------                   --------------  -----  \n",
            " 0   rank                     57793 non-null  int64  \n",
            " 1   country_full             57793 non-null  object \n",
            " 2   country_abrv             57793 non-null  object \n",
            " 3   total_points             57793 non-null  float64\n",
            " 4   previous_points          57793 non-null  int64  \n",
            " 5   rank_change              57793 non-null  int64  \n",
            " 6   cur_year_avg             57793 non-null  float64\n",
            " 7   cur_year_avg_weighted    57793 non-null  float64\n",
            " 8   last_year_avg            57793 non-null  float64\n",
            " 9   last_year_avg_weighted   57793 non-null  float64\n",
            " 10  two_year_ago_avg         57793 non-null  float64\n",
            " 11  two_year_ago_weighted    57793 non-null  float64\n",
            " 12  three_year_ago_avg       57793 non-null  float64\n",
            " 13  three_year_ago_weighted  57793 non-null  float64\n",
            " 14  confederation            57793 non-null  object \n",
            " 15  rank_date                57793 non-null  object \n",
            "dtypes: float64(9), int64(3), object(4)\n",
            "memory usage: 7.1+ MB\n"
          ],
          "name": "stdout"
        }
      ]
    },
    {
      "cell_type": "markdown",
      "metadata": {
        "id": "oZLb71T8A157",
        "colab_type": "text"
      },
      "source": [
        "the columns have the right data types"
      ]
    },
    {
      "cell_type": "code",
      "metadata": {
        "id": "A0NkBThUiB-z",
        "colab_type": "code",
        "colab": {
          "base_uri": "https://localhost:8080/",
          "height": 308
        },
        "outputId": "ce38e23e-9a85-4a72-d848-1b6386922d80"
      },
      "source": [
        "#check results dataset info\n",
        "results.info()"
      ],
      "execution_count": null,
      "outputs": [
        {
          "output_type": "stream",
          "text": [
            "<class 'pandas.core.frame.DataFrame'>\n",
            "RangeIndex: 40839 entries, 0 to 40838\n",
            "Data columns (total 9 columns):\n",
            " #   Column      Non-Null Count  Dtype \n",
            "---  ------      --------------  ----- \n",
            " 0   date        40839 non-null  object\n",
            " 1   home_team   40839 non-null  object\n",
            " 2   away_team   40839 non-null  object\n",
            " 3   home_score  40839 non-null  int64 \n",
            " 4   away_score  40839 non-null  int64 \n",
            " 5   tournament  40839 non-null  object\n",
            " 6   city        40839 non-null  object\n",
            " 7   country     40839 non-null  object\n",
            " 8   neutral     40839 non-null  bool  \n",
            "dtypes: bool(1), int64(2), object(6)\n",
            "memory usage: 2.5+ MB\n"
          ],
          "name": "stdout"
        }
      ]
    },
    {
      "cell_type": "markdown",
      "metadata": {
        "id": "JxAVYpseBEQ6",
        "colab_type": "text"
      },
      "source": [
        "all the columns have the appropriate datasets"
      ]
    },
    {
      "cell_type": "markdown",
      "metadata": {
        "id": "yPUxzDLEBRPu",
        "colab_type": "text"
      },
      "source": [
        "DATA CLEANING"
      ]
    },
    {
      "cell_type": "code",
      "metadata": {
        "id": "o17O0abqikgf",
        "colab_type": "code",
        "colab": {
          "base_uri": "https://localhost:8080/",
          "height": 35
        },
        "outputId": "5d06dcaf-ccda-4b81-9ad8-47ddec21dcf8"
      },
      "source": [
        "# check for duplicates and store them in the duplicated dataframe\n",
        "duplicated = fifa_ranking[fifa_ranking.duplicated()]\n",
        "duplicated.shape"
      ],
      "execution_count": 4,
      "outputs": [
        {
          "output_type": "execute_result",
          "data": {
            "text/plain": [
              "(37, 16)"
            ]
          },
          "metadata": {
            "tags": []
          },
          "execution_count": 4
        }
      ]
    },
    {
      "cell_type": "code",
      "metadata": {
        "id": "3BjVZtDkBefd",
        "colab_type": "code",
        "colab": {
          "base_uri": "https://localhost:8080/",
          "height": 600
        },
        "outputId": "21fdb6a2-866e-4269-8cd3-cae658e4a7a0"
      },
      "source": [
        "# we now drop the duplicates from the fifa_ranking dataset\n",
        "fifa_ranking.drop_duplicates()"
      ],
      "execution_count": 5,
      "outputs": [
        {
          "output_type": "execute_result",
          "data": {
            "text/html": [
              "<div>\n",
              "<style scoped>\n",
              "    .dataframe tbody tr th:only-of-type {\n",
              "        vertical-align: middle;\n",
              "    }\n",
              "\n",
              "    .dataframe tbody tr th {\n",
              "        vertical-align: top;\n",
              "    }\n",
              "\n",
              "    .dataframe thead th {\n",
              "        text-align: right;\n",
              "    }\n",
              "</style>\n",
              "<table border=\"1\" class=\"dataframe\">\n",
              "  <thead>\n",
              "    <tr style=\"text-align: right;\">\n",
              "      <th></th>\n",
              "      <th>rank</th>\n",
              "      <th>country_full</th>\n",
              "      <th>country_abrv</th>\n",
              "      <th>total_points</th>\n",
              "      <th>previous_points</th>\n",
              "      <th>rank_change</th>\n",
              "      <th>cur_year_avg</th>\n",
              "      <th>cur_year_avg_weighted</th>\n",
              "      <th>last_year_avg</th>\n",
              "      <th>last_year_avg_weighted</th>\n",
              "      <th>two_year_ago_avg</th>\n",
              "      <th>two_year_ago_weighted</th>\n",
              "      <th>three_year_ago_avg</th>\n",
              "      <th>three_year_ago_weighted</th>\n",
              "      <th>confederation</th>\n",
              "      <th>rank_date</th>\n",
              "    </tr>\n",
              "  </thead>\n",
              "  <tbody>\n",
              "    <tr>\n",
              "      <th>0</th>\n",
              "      <td>1</td>\n",
              "      <td>Germany</td>\n",
              "      <td>GER</td>\n",
              "      <td>0.0</td>\n",
              "      <td>57</td>\n",
              "      <td>0</td>\n",
              "      <td>0.0</td>\n",
              "      <td>0.0</td>\n",
              "      <td>0.0</td>\n",
              "      <td>0.0</td>\n",
              "      <td>0.0</td>\n",
              "      <td>0.0</td>\n",
              "      <td>0.0</td>\n",
              "      <td>0.0</td>\n",
              "      <td>UEFA</td>\n",
              "      <td>1993-08-08</td>\n",
              "    </tr>\n",
              "    <tr>\n",
              "      <th>1</th>\n",
              "      <td>2</td>\n",
              "      <td>Italy</td>\n",
              "      <td>ITA</td>\n",
              "      <td>0.0</td>\n",
              "      <td>57</td>\n",
              "      <td>0</td>\n",
              "      <td>0.0</td>\n",
              "      <td>0.0</td>\n",
              "      <td>0.0</td>\n",
              "      <td>0.0</td>\n",
              "      <td>0.0</td>\n",
              "      <td>0.0</td>\n",
              "      <td>0.0</td>\n",
              "      <td>0.0</td>\n",
              "      <td>UEFA</td>\n",
              "      <td>1993-08-08</td>\n",
              "    </tr>\n",
              "    <tr>\n",
              "      <th>2</th>\n",
              "      <td>3</td>\n",
              "      <td>Switzerland</td>\n",
              "      <td>SUI</td>\n",
              "      <td>0.0</td>\n",
              "      <td>50</td>\n",
              "      <td>9</td>\n",
              "      <td>0.0</td>\n",
              "      <td>0.0</td>\n",
              "      <td>0.0</td>\n",
              "      <td>0.0</td>\n",
              "      <td>0.0</td>\n",
              "      <td>0.0</td>\n",
              "      <td>0.0</td>\n",
              "      <td>0.0</td>\n",
              "      <td>UEFA</td>\n",
              "      <td>1993-08-08</td>\n",
              "    </tr>\n",
              "    <tr>\n",
              "      <th>3</th>\n",
              "      <td>4</td>\n",
              "      <td>Sweden</td>\n",
              "      <td>SWE</td>\n",
              "      <td>0.0</td>\n",
              "      <td>55</td>\n",
              "      <td>0</td>\n",
              "      <td>0.0</td>\n",
              "      <td>0.0</td>\n",
              "      <td>0.0</td>\n",
              "      <td>0.0</td>\n",
              "      <td>0.0</td>\n",
              "      <td>0.0</td>\n",
              "      <td>0.0</td>\n",
              "      <td>0.0</td>\n",
              "      <td>UEFA</td>\n",
              "      <td>1993-08-08</td>\n",
              "    </tr>\n",
              "    <tr>\n",
              "      <th>4</th>\n",
              "      <td>5</td>\n",
              "      <td>Argentina</td>\n",
              "      <td>ARG</td>\n",
              "      <td>0.0</td>\n",
              "      <td>51</td>\n",
              "      <td>5</td>\n",
              "      <td>0.0</td>\n",
              "      <td>0.0</td>\n",
              "      <td>0.0</td>\n",
              "      <td>0.0</td>\n",
              "      <td>0.0</td>\n",
              "      <td>0.0</td>\n",
              "      <td>0.0</td>\n",
              "      <td>0.0</td>\n",
              "      <td>CONMEBOL</td>\n",
              "      <td>1993-08-08</td>\n",
              "    </tr>\n",
              "    <tr>\n",
              "      <th>...</th>\n",
              "      <td>...</td>\n",
              "      <td>...</td>\n",
              "      <td>...</td>\n",
              "      <td>...</td>\n",
              "      <td>...</td>\n",
              "      <td>...</td>\n",
              "      <td>...</td>\n",
              "      <td>...</td>\n",
              "      <td>...</td>\n",
              "      <td>...</td>\n",
              "      <td>...</td>\n",
              "      <td>...</td>\n",
              "      <td>...</td>\n",
              "      <td>...</td>\n",
              "      <td>...</td>\n",
              "      <td>...</td>\n",
              "    </tr>\n",
              "    <tr>\n",
              "      <th>57788</th>\n",
              "      <td>206</td>\n",
              "      <td>Anguilla</td>\n",
              "      <td>AIA</td>\n",
              "      <td>0.0</td>\n",
              "      <td>0</td>\n",
              "      <td>1</td>\n",
              "      <td>0.0</td>\n",
              "      <td>0.0</td>\n",
              "      <td>0.0</td>\n",
              "      <td>0.0</td>\n",
              "      <td>0.0</td>\n",
              "      <td>0.0</td>\n",
              "      <td>0.0</td>\n",
              "      <td>0.0</td>\n",
              "      <td>CONCACAF</td>\n",
              "      <td>2018-06-07</td>\n",
              "    </tr>\n",
              "    <tr>\n",
              "      <th>57789</th>\n",
              "      <td>206</td>\n",
              "      <td>Bahamas</td>\n",
              "      <td>BAH</td>\n",
              "      <td>0.0</td>\n",
              "      <td>0</td>\n",
              "      <td>1</td>\n",
              "      <td>0.0</td>\n",
              "      <td>0.0</td>\n",
              "      <td>0.0</td>\n",
              "      <td>0.0</td>\n",
              "      <td>0.0</td>\n",
              "      <td>0.0</td>\n",
              "      <td>0.0</td>\n",
              "      <td>0.0</td>\n",
              "      <td>CONCACAF</td>\n",
              "      <td>2018-06-07</td>\n",
              "    </tr>\n",
              "    <tr>\n",
              "      <th>57790</th>\n",
              "      <td>206</td>\n",
              "      <td>Eritrea</td>\n",
              "      <td>ERI</td>\n",
              "      <td>0.0</td>\n",
              "      <td>0</td>\n",
              "      <td>1</td>\n",
              "      <td>0.0</td>\n",
              "      <td>0.0</td>\n",
              "      <td>0.0</td>\n",
              "      <td>0.0</td>\n",
              "      <td>0.0</td>\n",
              "      <td>0.0</td>\n",
              "      <td>0.0</td>\n",
              "      <td>0.0</td>\n",
              "      <td>CAF</td>\n",
              "      <td>2018-06-07</td>\n",
              "    </tr>\n",
              "    <tr>\n",
              "      <th>57791</th>\n",
              "      <td>206</td>\n",
              "      <td>Somalia</td>\n",
              "      <td>SOM</td>\n",
              "      <td>0.0</td>\n",
              "      <td>0</td>\n",
              "      <td>1</td>\n",
              "      <td>0.0</td>\n",
              "      <td>0.0</td>\n",
              "      <td>0.0</td>\n",
              "      <td>0.0</td>\n",
              "      <td>0.0</td>\n",
              "      <td>0.0</td>\n",
              "      <td>0.0</td>\n",
              "      <td>0.0</td>\n",
              "      <td>CAF</td>\n",
              "      <td>2018-06-07</td>\n",
              "    </tr>\n",
              "    <tr>\n",
              "      <th>57792</th>\n",
              "      <td>206</td>\n",
              "      <td>Tonga</td>\n",
              "      <td>TGA</td>\n",
              "      <td>0.0</td>\n",
              "      <td>0</td>\n",
              "      <td>1</td>\n",
              "      <td>0.0</td>\n",
              "      <td>0.0</td>\n",
              "      <td>0.0</td>\n",
              "      <td>0.0</td>\n",
              "      <td>0.0</td>\n",
              "      <td>0.0</td>\n",
              "      <td>0.0</td>\n",
              "      <td>0.0</td>\n",
              "      <td>OFC</td>\n",
              "      <td>2018-06-07</td>\n",
              "    </tr>\n",
              "  </tbody>\n",
              "</table>\n",
              "<p>57756 rows × 16 columns</p>\n",
              "</div>"
            ],
            "text/plain": [
              "       rank country_full  ... confederation   rank_date\n",
              "0         1      Germany  ...          UEFA  1993-08-08\n",
              "1         2        Italy  ...          UEFA  1993-08-08\n",
              "2         3  Switzerland  ...          UEFA  1993-08-08\n",
              "3         4       Sweden  ...          UEFA  1993-08-08\n",
              "4         5    Argentina  ...      CONMEBOL  1993-08-08\n",
              "...     ...          ...  ...           ...         ...\n",
              "57788   206     Anguilla  ...      CONCACAF  2018-06-07\n",
              "57789   206      Bahamas  ...      CONCACAF  2018-06-07\n",
              "57790   206      Eritrea  ...           CAF  2018-06-07\n",
              "57791   206      Somalia  ...           CAF  2018-06-07\n",
              "57792   206        Tonga  ...           OFC  2018-06-07\n",
              "\n",
              "[57756 rows x 16 columns]"
            ]
          },
          "metadata": {
            "tags": []
          },
          "execution_count": 5
        }
      ]
    },
    {
      "cell_type": "code",
      "metadata": {
        "id": "aivQAYn5Xtn4",
        "colab_type": "code",
        "colab": {
          "base_uri": "https://localhost:8080/",
          "height": 54
        },
        "outputId": "7747e2ce-78c0-40be-febd-00459b799a99"
      },
      "source": [
        "#get the shapes of both datasets\n",
        "print(\"Fifa Ranking dataset shape:\", fifa_ranking.shape)\n",
        "print(\"Results dataset shape:\", results.shape)"
      ],
      "execution_count": 30,
      "outputs": [
        {
          "output_type": "stream",
          "text": [
            "Fifa Ranking dataset shape: (57793, 16)\n",
            "Results dataset shape: (40839, 9)\n"
          ],
          "name": "stdout"
        }
      ]
    },
    {
      "cell_type": "markdown",
      "metadata": {
        "id": "D5S4soKTYYFx",
        "colab_type": "text"
      },
      "source": [
        "fifa_ranking has 57793 rows and 16 columns\n",
        "whereas results has 40839 rows and 9 columns"
      ]
    },
    {
      "cell_type": "code",
      "metadata": {
        "id": "oU-qkqSiYHYG",
        "colab_type": "code",
        "colab": {
          "base_uri": "https://localhost:8080/",
          "height": 326
        },
        "outputId": "042bda35-f49e-4cf5-f908-c4f41a463abd"
      },
      "source": [
        "#check for null values\n",
        "fifa_ranking.isnull().sum()"
      ],
      "execution_count": null,
      "outputs": [
        {
          "output_type": "execute_result",
          "data": {
            "text/plain": [
              "rank                       0\n",
              "country_full               0\n",
              "country_abrv               0\n",
              "total_points               0\n",
              "previous_points            0\n",
              "rank_change                0\n",
              "cur_year_avg               0\n",
              "cur_year_avg_weighted      0\n",
              "last_year_avg              0\n",
              "last_year_avg_weighted     0\n",
              "two_year_ago_avg           0\n",
              "two_year_ago_weighted      0\n",
              "three_year_ago_avg         0\n",
              "three_year_ago_weighted    0\n",
              "confederation              0\n",
              "rank_date                  0\n",
              "dtype: int64"
            ]
          },
          "metadata": {
            "tags": []
          },
          "execution_count": 8
        }
      ]
    },
    {
      "cell_type": "markdown",
      "metadata": {
        "id": "kqyNrwLQY9c1",
        "colab_type": "text"
      },
      "source": [
        "we have no null values in the fifa_ranking dataset"
      ]
    },
    {
      "cell_type": "code",
      "metadata": {
        "id": "c0qFK0WUY3co",
        "colab_type": "code",
        "colab": {
          "base_uri": "https://localhost:8080/",
          "height": 199
        },
        "outputId": "0e0a9f9c-0e30-4087-b9b7-e064f678cb30"
      },
      "source": [
        "#checking for null values un results dataset\n",
        "results.isnull().sum()"
      ],
      "execution_count": 9,
      "outputs": [
        {
          "output_type": "execute_result",
          "data": {
            "text/plain": [
              "date          0\n",
              "home_team     0\n",
              "away_team     0\n",
              "home_score    0\n",
              "away_score    0\n",
              "tournament    0\n",
              "city          0\n",
              "country       0\n",
              "neutral       0\n",
              "dtype: int64"
            ]
          },
          "metadata": {
            "tags": []
          },
          "execution_count": 9
        }
      ]
    },
    {
      "cell_type": "markdown",
      "metadata": {
        "id": "bd8cvI2-ZcT9",
        "colab_type": "text"
      },
      "source": [
        "we have no null values in results dataset"
      ]
    },
    {
      "cell_type": "code",
      "metadata": {
        "id": "wwPm-JIIlizv",
        "colab_type": "code",
        "colab": {
          "base_uri": "https://localhost:8080/",
          "height": 305
        },
        "outputId": "b44a2de7-1de0-45c5-bc55-757615187e51"
      },
      "source": [
        "# before we merge, we need a column that is the same in both datasets, country full and home_team are the same\n",
        "# so i decide to rename it\n",
        "# changing the full country column name in fifa_ranking dataset to home_team\n",
        "\n",
        "fifa_ranking = fifa_ranking.rename({'country_full': 'home_team'}, axis = 1)\n",
        "fifa_ranking.head()"
      ],
      "execution_count": 6,
      "outputs": [
        {
          "output_type": "execute_result",
          "data": {
            "text/html": [
              "<div>\n",
              "<style scoped>\n",
              "    .dataframe tbody tr th:only-of-type {\n",
              "        vertical-align: middle;\n",
              "    }\n",
              "\n",
              "    .dataframe tbody tr th {\n",
              "        vertical-align: top;\n",
              "    }\n",
              "\n",
              "    .dataframe thead th {\n",
              "        text-align: right;\n",
              "    }\n",
              "</style>\n",
              "<table border=\"1\" class=\"dataframe\">\n",
              "  <thead>\n",
              "    <tr style=\"text-align: right;\">\n",
              "      <th></th>\n",
              "      <th>rank</th>\n",
              "      <th>home_team</th>\n",
              "      <th>country_abrv</th>\n",
              "      <th>total_points</th>\n",
              "      <th>previous_points</th>\n",
              "      <th>rank_change</th>\n",
              "      <th>cur_year_avg</th>\n",
              "      <th>cur_year_avg_weighted</th>\n",
              "      <th>last_year_avg</th>\n",
              "      <th>last_year_avg_weighted</th>\n",
              "      <th>two_year_ago_avg</th>\n",
              "      <th>two_year_ago_weighted</th>\n",
              "      <th>three_year_ago_avg</th>\n",
              "      <th>three_year_ago_weighted</th>\n",
              "      <th>confederation</th>\n",
              "      <th>rank_date</th>\n",
              "    </tr>\n",
              "  </thead>\n",
              "  <tbody>\n",
              "    <tr>\n",
              "      <th>0</th>\n",
              "      <td>1</td>\n",
              "      <td>Germany</td>\n",
              "      <td>GER</td>\n",
              "      <td>0.0</td>\n",
              "      <td>57</td>\n",
              "      <td>0</td>\n",
              "      <td>0.0</td>\n",
              "      <td>0.0</td>\n",
              "      <td>0.0</td>\n",
              "      <td>0.0</td>\n",
              "      <td>0.0</td>\n",
              "      <td>0.0</td>\n",
              "      <td>0.0</td>\n",
              "      <td>0.0</td>\n",
              "      <td>UEFA</td>\n",
              "      <td>1993-08-08</td>\n",
              "    </tr>\n",
              "    <tr>\n",
              "      <th>1</th>\n",
              "      <td>2</td>\n",
              "      <td>Italy</td>\n",
              "      <td>ITA</td>\n",
              "      <td>0.0</td>\n",
              "      <td>57</td>\n",
              "      <td>0</td>\n",
              "      <td>0.0</td>\n",
              "      <td>0.0</td>\n",
              "      <td>0.0</td>\n",
              "      <td>0.0</td>\n",
              "      <td>0.0</td>\n",
              "      <td>0.0</td>\n",
              "      <td>0.0</td>\n",
              "      <td>0.0</td>\n",
              "      <td>UEFA</td>\n",
              "      <td>1993-08-08</td>\n",
              "    </tr>\n",
              "    <tr>\n",
              "      <th>2</th>\n",
              "      <td>3</td>\n",
              "      <td>Switzerland</td>\n",
              "      <td>SUI</td>\n",
              "      <td>0.0</td>\n",
              "      <td>50</td>\n",
              "      <td>9</td>\n",
              "      <td>0.0</td>\n",
              "      <td>0.0</td>\n",
              "      <td>0.0</td>\n",
              "      <td>0.0</td>\n",
              "      <td>0.0</td>\n",
              "      <td>0.0</td>\n",
              "      <td>0.0</td>\n",
              "      <td>0.0</td>\n",
              "      <td>UEFA</td>\n",
              "      <td>1993-08-08</td>\n",
              "    </tr>\n",
              "    <tr>\n",
              "      <th>3</th>\n",
              "      <td>4</td>\n",
              "      <td>Sweden</td>\n",
              "      <td>SWE</td>\n",
              "      <td>0.0</td>\n",
              "      <td>55</td>\n",
              "      <td>0</td>\n",
              "      <td>0.0</td>\n",
              "      <td>0.0</td>\n",
              "      <td>0.0</td>\n",
              "      <td>0.0</td>\n",
              "      <td>0.0</td>\n",
              "      <td>0.0</td>\n",
              "      <td>0.0</td>\n",
              "      <td>0.0</td>\n",
              "      <td>UEFA</td>\n",
              "      <td>1993-08-08</td>\n",
              "    </tr>\n",
              "    <tr>\n",
              "      <th>4</th>\n",
              "      <td>5</td>\n",
              "      <td>Argentina</td>\n",
              "      <td>ARG</td>\n",
              "      <td>0.0</td>\n",
              "      <td>51</td>\n",
              "      <td>5</td>\n",
              "      <td>0.0</td>\n",
              "      <td>0.0</td>\n",
              "      <td>0.0</td>\n",
              "      <td>0.0</td>\n",
              "      <td>0.0</td>\n",
              "      <td>0.0</td>\n",
              "      <td>0.0</td>\n",
              "      <td>0.0</td>\n",
              "      <td>CONMEBOL</td>\n",
              "      <td>1993-08-08</td>\n",
              "    </tr>\n",
              "  </tbody>\n",
              "</table>\n",
              "</div>"
            ],
            "text/plain": [
              "   rank    home_team  ... confederation   rank_date\n",
              "0     1      Germany  ...          UEFA  1993-08-08\n",
              "1     2        Italy  ...          UEFA  1993-08-08\n",
              "2     3  Switzerland  ...          UEFA  1993-08-08\n",
              "3     4       Sweden  ...          UEFA  1993-08-08\n",
              "4     5    Argentina  ...      CONMEBOL  1993-08-08\n",
              "\n",
              "[5 rows x 16 columns]"
            ]
          },
          "metadata": {
            "tags": []
          },
          "execution_count": 6
        }
      ]
    },
    {
      "cell_type": "markdown",
      "metadata": {
        "id": "aM1EQC_iBzuZ",
        "colab_type": "text"
      },
      "source": [
        "Merge the dataset"
      ]
    },
    {
      "cell_type": "code",
      "metadata": {
        "id": "kF6yBzmPZZuj",
        "colab_type": "code",
        "colab": {
          "base_uri": "https://localhost:8080/",
          "height": 356
        },
        "outputId": "4385e875-c20f-424d-f9ff-71afecf8d4c7"
      },
      "source": [
        "#merge the two datasets\n",
        "df_merged = results.merge(fifa_ranking, left_on = ['date', 'home_team'],\n",
        "                        right_on = ['rank_date', 'home_team'], how = 'inner')\n",
        "df_merged.head()"
      ],
      "execution_count": 31,
      "outputs": [
        {
          "output_type": "execute_result",
          "data": {
            "text/html": [
              "<div>\n",
              "<style scoped>\n",
              "    .dataframe tbody tr th:only-of-type {\n",
              "        vertical-align: middle;\n",
              "    }\n",
              "\n",
              "    .dataframe tbody tr th {\n",
              "        vertical-align: top;\n",
              "    }\n",
              "\n",
              "    .dataframe thead th {\n",
              "        text-align: right;\n",
              "    }\n",
              "</style>\n",
              "<table border=\"1\" class=\"dataframe\">\n",
              "  <thead>\n",
              "    <tr style=\"text-align: right;\">\n",
              "      <th></th>\n",
              "      <th>date</th>\n",
              "      <th>home_team</th>\n",
              "      <th>away_team</th>\n",
              "      <th>home_score</th>\n",
              "      <th>away_score</th>\n",
              "      <th>tournament</th>\n",
              "      <th>city</th>\n",
              "      <th>country</th>\n",
              "      <th>neutral</th>\n",
              "      <th>rank</th>\n",
              "      <th>country_abrv</th>\n",
              "      <th>total_points</th>\n",
              "      <th>previous_points</th>\n",
              "      <th>rank_change</th>\n",
              "      <th>cur_year_avg</th>\n",
              "      <th>cur_year_avg_weighted</th>\n",
              "      <th>last_year_avg</th>\n",
              "      <th>last_year_avg_weighted</th>\n",
              "      <th>two_year_ago_avg</th>\n",
              "      <th>two_year_ago_weighted</th>\n",
              "      <th>three_year_ago_avg</th>\n",
              "      <th>three_year_ago_weighted</th>\n",
              "      <th>confederation</th>\n",
              "      <th>rank_date</th>\n",
              "    </tr>\n",
              "  </thead>\n",
              "  <tbody>\n",
              "    <tr>\n",
              "      <th>0</th>\n",
              "      <td>1993-08-08</td>\n",
              "      <td>Bolivia</td>\n",
              "      <td>Uruguay</td>\n",
              "      <td>3</td>\n",
              "      <td>1</td>\n",
              "      <td>FIFA World Cup qualification</td>\n",
              "      <td>La Paz</td>\n",
              "      <td>Bolivia</td>\n",
              "      <td>False</td>\n",
              "      <td>59</td>\n",
              "      <td>BOL</td>\n",
              "      <td>0.0</td>\n",
              "      <td>13</td>\n",
              "      <td>28</td>\n",
              "      <td>0.0</td>\n",
              "      <td>0.0</td>\n",
              "      <td>0.0</td>\n",
              "      <td>0.0</td>\n",
              "      <td>0.0</td>\n",
              "      <td>0.0</td>\n",
              "      <td>0.0</td>\n",
              "      <td>0.0</td>\n",
              "      <td>CONMEBOL</td>\n",
              "      <td>1993-08-08</td>\n",
              "    </tr>\n",
              "    <tr>\n",
              "      <th>1</th>\n",
              "      <td>1993-08-08</td>\n",
              "      <td>Brazil</td>\n",
              "      <td>Mexico</td>\n",
              "      <td>1</td>\n",
              "      <td>1</td>\n",
              "      <td>Friendly</td>\n",
              "      <td>Maceió</td>\n",
              "      <td>Brazil</td>\n",
              "      <td>False</td>\n",
              "      <td>8</td>\n",
              "      <td>BRA</td>\n",
              "      <td>0.0</td>\n",
              "      <td>55</td>\n",
              "      <td>-5</td>\n",
              "      <td>0.0</td>\n",
              "      <td>0.0</td>\n",
              "      <td>0.0</td>\n",
              "      <td>0.0</td>\n",
              "      <td>0.0</td>\n",
              "      <td>0.0</td>\n",
              "      <td>0.0</td>\n",
              "      <td>0.0</td>\n",
              "      <td>CONMEBOL</td>\n",
              "      <td>1993-08-08</td>\n",
              "    </tr>\n",
              "    <tr>\n",
              "      <th>2</th>\n",
              "      <td>1993-08-08</td>\n",
              "      <td>Ecuador</td>\n",
              "      <td>Venezuela</td>\n",
              "      <td>5</td>\n",
              "      <td>0</td>\n",
              "      <td>FIFA World Cup qualification</td>\n",
              "      <td>Quito</td>\n",
              "      <td>Ecuador</td>\n",
              "      <td>False</td>\n",
              "      <td>35</td>\n",
              "      <td>ECU</td>\n",
              "      <td>0.0</td>\n",
              "      <td>23</td>\n",
              "      <td>30</td>\n",
              "      <td>0.0</td>\n",
              "      <td>0.0</td>\n",
              "      <td>0.0</td>\n",
              "      <td>0.0</td>\n",
              "      <td>0.0</td>\n",
              "      <td>0.0</td>\n",
              "      <td>0.0</td>\n",
              "      <td>0.0</td>\n",
              "      <td>CONMEBOL</td>\n",
              "      <td>1993-08-08</td>\n",
              "    </tr>\n",
              "    <tr>\n",
              "      <th>3</th>\n",
              "      <td>1993-08-08</td>\n",
              "      <td>Guinea</td>\n",
              "      <td>Sierra Leone</td>\n",
              "      <td>1</td>\n",
              "      <td>0</td>\n",
              "      <td>Friendly</td>\n",
              "      <td>Conakry</td>\n",
              "      <td>Guinea</td>\n",
              "      <td>False</td>\n",
              "      <td>65</td>\n",
              "      <td>GUI</td>\n",
              "      <td>0.0</td>\n",
              "      <td>23</td>\n",
              "      <td>-2</td>\n",
              "      <td>0.0</td>\n",
              "      <td>0.0</td>\n",
              "      <td>0.0</td>\n",
              "      <td>0.0</td>\n",
              "      <td>0.0</td>\n",
              "      <td>0.0</td>\n",
              "      <td>0.0</td>\n",
              "      <td>0.0</td>\n",
              "      <td>CAF</td>\n",
              "      <td>1993-08-08</td>\n",
              "    </tr>\n",
              "    <tr>\n",
              "      <th>4</th>\n",
              "      <td>1993-08-08</td>\n",
              "      <td>Paraguay</td>\n",
              "      <td>Argentina</td>\n",
              "      <td>1</td>\n",
              "      <td>3</td>\n",
              "      <td>FIFA World Cup qualification</td>\n",
              "      <td>Asunción</td>\n",
              "      <td>Paraguay</td>\n",
              "      <td>False</td>\n",
              "      <td>67</td>\n",
              "      <td>PAR</td>\n",
              "      <td>0.0</td>\n",
              "      <td>22</td>\n",
              "      <td>1</td>\n",
              "      <td>0.0</td>\n",
              "      <td>0.0</td>\n",
              "      <td>0.0</td>\n",
              "      <td>0.0</td>\n",
              "      <td>0.0</td>\n",
              "      <td>0.0</td>\n",
              "      <td>0.0</td>\n",
              "      <td>0.0</td>\n",
              "      <td>CONMEBOL</td>\n",
              "      <td>1993-08-08</td>\n",
              "    </tr>\n",
              "  </tbody>\n",
              "</table>\n",
              "</div>"
            ],
            "text/plain": [
              "         date home_team  ... confederation   rank_date\n",
              "0  1993-08-08   Bolivia  ...      CONMEBOL  1993-08-08\n",
              "1  1993-08-08    Brazil  ...      CONMEBOL  1993-08-08\n",
              "2  1993-08-08   Ecuador  ...      CONMEBOL  1993-08-08\n",
              "3  1993-08-08    Guinea  ...           CAF  1993-08-08\n",
              "4  1993-08-08  Paraguay  ...      CONMEBOL  1993-08-08\n",
              "\n",
              "[5 rows x 24 columns]"
            ]
          },
          "metadata": {
            "tags": []
          },
          "execution_count": 31
        }
      ]
    },
    {
      "cell_type": "code",
      "metadata": {
        "id": "KPkfnQeACRr7",
        "colab_type": "code",
        "colab": {
          "base_uri": "https://localhost:8080/",
          "height": 581
        },
        "outputId": "afb21ac0-25a4-4ccf-d5a4-cc8290079ec2"
      },
      "source": [
        "#checking the information on our new dataset\n",
        "df_merged.info()"
      ],
      "execution_count": 32,
      "outputs": [
        {
          "output_type": "stream",
          "text": [
            "<class 'pandas.core.frame.DataFrame'>\n",
            "Int64Index: 957 entries, 0 to 956\n",
            "Data columns (total 24 columns):\n",
            " #   Column                   Non-Null Count  Dtype  \n",
            "---  ------                   --------------  -----  \n",
            " 0   date                     957 non-null    object \n",
            " 1   home_team                957 non-null    object \n",
            " 2   away_team                957 non-null    object \n",
            " 3   home_score               957 non-null    int64  \n",
            " 4   away_score               957 non-null    int64  \n",
            " 5   tournament               957 non-null    object \n",
            " 6   city                     957 non-null    object \n",
            " 7   country                  957 non-null    object \n",
            " 8   neutral                  957 non-null    bool   \n",
            " 9   rank                     957 non-null    int64  \n",
            " 10  country_abrv             957 non-null    object \n",
            " 11  total_points             957 non-null    float64\n",
            " 12  previous_points          957 non-null    int64  \n",
            " 13  rank_change              957 non-null    int64  \n",
            " 14  cur_year_avg             957 non-null    float64\n",
            " 15  cur_year_avg_weighted    957 non-null    float64\n",
            " 16  last_year_avg            957 non-null    float64\n",
            " 17  last_year_avg_weighted   957 non-null    float64\n",
            " 18  two_year_ago_avg         957 non-null    float64\n",
            " 19  two_year_ago_weighted    957 non-null    float64\n",
            " 20  three_year_ago_avg       957 non-null    float64\n",
            " 21  three_year_ago_weighted  957 non-null    float64\n",
            " 22  confederation            957 non-null    object \n",
            " 23  rank_date                957 non-null    object \n",
            "dtypes: bool(1), float64(9), int64(5), object(9)\n",
            "memory usage: 180.4+ KB\n"
          ],
          "name": "stdout"
        }
      ]
    },
    {
      "cell_type": "markdown",
      "metadata": {
        "id": "V6PJs6KTDWHu",
        "colab_type": "text"
      },
      "source": [
        "some columns  we do not need, so we are going to drop them\n"
      ]
    },
    {
      "cell_type": "code",
      "metadata": {
        "id": "Zq71I-8wELZ8",
        "colab_type": "code",
        "colab": {}
      },
      "source": [
        "# drop the unnecessary columns\n",
        "df_merged.drop(columns = [ 'country_abrv', 'total_points', 'previous_points', 'rank_change', \n",
        "                        'cur_year_avg', 'cur_year_avg_weighted', 'last_year_avg', 'last_year_avg_weighted',\n",
        "                        'two_year_ago_avg', 'two_year_ago_weighted', 'three_year_ago_avg', \n",
        "                        'three_year_ago_weighted'], axis = 1, inplace = True)"
      ],
      "execution_count": 33,
      "outputs": []
    },
    {
      "cell_type": "code",
      "metadata": {
        "id": "_p0hg7ELFgN0",
        "colab_type": "code",
        "colab": {}
      },
      "source": [
        "df_merged.drop(columns = ['rank_date'], axis = 1, inplace =True)"
      ],
      "execution_count": 34,
      "outputs": []
    },
    {
      "cell_type": "code",
      "metadata": {
        "id": "_V0vUkApaYAn",
        "colab_type": "code",
        "colab": {
          "base_uri": "https://localhost:8080/",
          "height": 35
        },
        "outputId": "e912b7a2-92ae-4604-b523-d81742e34505"
      },
      "source": [
        "#check the shape of our new dataframe\n",
        "df_merged.shape"
      ],
      "execution_count": 35,
      "outputs": [
        {
          "output_type": "execute_result",
          "data": {
            "text/plain": [
              "(957, 11)"
            ]
          },
          "metadata": {
            "tags": []
          },
          "execution_count": 35
        }
      ]
    },
    {
      "cell_type": "code",
      "metadata": {
        "id": "7DPvgjN8Dq39",
        "colab_type": "code",
        "colab": {
          "base_uri": "https://localhost:8080/",
          "height": 235
        },
        "outputId": "81a0b743-7d7a-4a2c-f7c3-0a091839d80d"
      },
      "source": [
        "#check for null values in the dataset\n",
        "df_merged.isnull().sum()"
      ],
      "execution_count": 36,
      "outputs": [
        {
          "output_type": "execute_result",
          "data": {
            "text/plain": [
              "date             0\n",
              "home_team        0\n",
              "away_team        0\n",
              "home_score       0\n",
              "away_score       0\n",
              "tournament       0\n",
              "city             0\n",
              "country          0\n",
              "neutral          0\n",
              "rank             0\n",
              "confederation    0\n",
              "dtype: int64"
            ]
          },
          "metadata": {
            "tags": []
          },
          "execution_count": 36
        }
      ]
    },
    {
      "cell_type": "markdown",
      "metadata": {
        "id": "EEYEvwiBEF2l",
        "colab_type": "text"
      },
      "source": [
        "we have no null values.\n"
      ]
    },
    {
      "cell_type": "code",
      "metadata": {
        "id": "-AKt0tO9E_Zb",
        "colab_type": "code",
        "colab": {
          "base_uri": "https://localhost:8080/",
          "height": 356
        },
        "outputId": "a20c8ea1-b86a-44c6-a551-fa58048a9a8b"
      },
      "source": [
        "#preview our dataset\n",
        "df_merged.head()"
      ],
      "execution_count": 37,
      "outputs": [
        {
          "output_type": "execute_result",
          "data": {
            "text/html": [
              "<div>\n",
              "<style scoped>\n",
              "    .dataframe tbody tr th:only-of-type {\n",
              "        vertical-align: middle;\n",
              "    }\n",
              "\n",
              "    .dataframe tbody tr th {\n",
              "        vertical-align: top;\n",
              "    }\n",
              "\n",
              "    .dataframe thead th {\n",
              "        text-align: right;\n",
              "    }\n",
              "</style>\n",
              "<table border=\"1\" class=\"dataframe\">\n",
              "  <thead>\n",
              "    <tr style=\"text-align: right;\">\n",
              "      <th></th>\n",
              "      <th>date</th>\n",
              "      <th>home_team</th>\n",
              "      <th>away_team</th>\n",
              "      <th>home_score</th>\n",
              "      <th>away_score</th>\n",
              "      <th>tournament</th>\n",
              "      <th>city</th>\n",
              "      <th>country</th>\n",
              "      <th>neutral</th>\n",
              "      <th>rank</th>\n",
              "      <th>confederation</th>\n",
              "    </tr>\n",
              "  </thead>\n",
              "  <tbody>\n",
              "    <tr>\n",
              "      <th>0</th>\n",
              "      <td>1993-08-08</td>\n",
              "      <td>Bolivia</td>\n",
              "      <td>Uruguay</td>\n",
              "      <td>3</td>\n",
              "      <td>1</td>\n",
              "      <td>FIFA World Cup qualification</td>\n",
              "      <td>La Paz</td>\n",
              "      <td>Bolivia</td>\n",
              "      <td>False</td>\n",
              "      <td>59</td>\n",
              "      <td>CONMEBOL</td>\n",
              "    </tr>\n",
              "    <tr>\n",
              "      <th>1</th>\n",
              "      <td>1993-08-08</td>\n",
              "      <td>Brazil</td>\n",
              "      <td>Mexico</td>\n",
              "      <td>1</td>\n",
              "      <td>1</td>\n",
              "      <td>Friendly</td>\n",
              "      <td>Maceió</td>\n",
              "      <td>Brazil</td>\n",
              "      <td>False</td>\n",
              "      <td>8</td>\n",
              "      <td>CONMEBOL</td>\n",
              "    </tr>\n",
              "    <tr>\n",
              "      <th>2</th>\n",
              "      <td>1993-08-08</td>\n",
              "      <td>Ecuador</td>\n",
              "      <td>Venezuela</td>\n",
              "      <td>5</td>\n",
              "      <td>0</td>\n",
              "      <td>FIFA World Cup qualification</td>\n",
              "      <td>Quito</td>\n",
              "      <td>Ecuador</td>\n",
              "      <td>False</td>\n",
              "      <td>35</td>\n",
              "      <td>CONMEBOL</td>\n",
              "    </tr>\n",
              "    <tr>\n",
              "      <th>3</th>\n",
              "      <td>1993-08-08</td>\n",
              "      <td>Guinea</td>\n",
              "      <td>Sierra Leone</td>\n",
              "      <td>1</td>\n",
              "      <td>0</td>\n",
              "      <td>Friendly</td>\n",
              "      <td>Conakry</td>\n",
              "      <td>Guinea</td>\n",
              "      <td>False</td>\n",
              "      <td>65</td>\n",
              "      <td>CAF</td>\n",
              "    </tr>\n",
              "    <tr>\n",
              "      <th>4</th>\n",
              "      <td>1993-08-08</td>\n",
              "      <td>Paraguay</td>\n",
              "      <td>Argentina</td>\n",
              "      <td>1</td>\n",
              "      <td>3</td>\n",
              "      <td>FIFA World Cup qualification</td>\n",
              "      <td>Asunción</td>\n",
              "      <td>Paraguay</td>\n",
              "      <td>False</td>\n",
              "      <td>67</td>\n",
              "      <td>CONMEBOL</td>\n",
              "    </tr>\n",
              "  </tbody>\n",
              "</table>\n",
              "</div>"
            ],
            "text/plain": [
              "         date home_team     away_team  ...  neutral  rank confederation\n",
              "0  1993-08-08   Bolivia       Uruguay  ...    False    59      CONMEBOL\n",
              "1  1993-08-08    Brazil        Mexico  ...    False     8      CONMEBOL\n",
              "2  1993-08-08   Ecuador     Venezuela  ...    False    35      CONMEBOL\n",
              "3  1993-08-08    Guinea  Sierra Leone  ...    False    65           CAF\n",
              "4  1993-08-08  Paraguay     Argentina  ...    False    67      CONMEBOL\n",
              "\n",
              "[5 rows x 11 columns]"
            ]
          },
          "metadata": {
            "tags": []
          },
          "execution_count": 37
        }
      ]
    },
    {
      "cell_type": "code",
      "metadata": {
        "id": "BXiK-LaeHHXV",
        "colab_type": "code",
        "colab": {}
      },
      "source": [
        "# renaming the rank column home rank.\n",
        "# since we merged the datasets using the home team\n",
        "df_merged.rename(columns = {'rank' : 'home_rank'}, inplace = True)"
      ],
      "execution_count": 38,
      "outputs": []
    },
    {
      "cell_type": "code",
      "metadata": {
        "id": "Y8OD4NK9nkoA",
        "colab_type": "code",
        "colab": {
          "base_uri": "https://localhost:8080/",
          "height": 235
        },
        "outputId": "2c08bacd-46d4-4c37-8c58-2ffef5fad454"
      },
      "source": [
        "df_merged.duplicated()"
      ],
      "execution_count": 39,
      "outputs": [
        {
          "output_type": "execute_result",
          "data": {
            "text/plain": [
              "0      False\n",
              "1      False\n",
              "2      False\n",
              "3      False\n",
              "4      False\n",
              "       ...  \n",
              "952    False\n",
              "953    False\n",
              "954    False\n",
              "955    False\n",
              "956    False\n",
              "Length: 957, dtype: bool"
            ]
          },
          "metadata": {
            "tags": []
          },
          "execution_count": 39
        }
      ]
    },
    {
      "cell_type": "code",
      "metadata": {
        "id": "i7jPL-lkHzuT",
        "colab_type": "code",
        "colab": {}
      },
      "source": [
        "# now to get the rank of the away team on the day of the match\n",
        "# we merge our merged dataset again to get the away rank\n",
        "df1 = df_merged.merge(fifa_ranking, left_on = ['date','home_team'],\n",
        "                        right_on = ['rank_date','home_team'], how = 'inner')"
      ],
      "execution_count": 40,
      "outputs": []
    },
    {
      "cell_type": "code",
      "metadata": {
        "id": "W2jFoCewH9dq",
        "colab_type": "code",
        "colab": {}
      },
      "source": [
        "#we now  rename the rank column to 'away_rank'\n",
        "df1.rename(columns = {'rank' : 'away_rank'}, inplace = True)"
      ],
      "execution_count": 41,
      "outputs": []
    },
    {
      "cell_type": "code",
      "metadata": {
        "id": "Bd4SYsp2IhqR",
        "colab_type": "code",
        "colab": {
          "base_uri": "https://localhost:8080/",
          "height": 617
        },
        "outputId": "9a50a455-024a-4eb6-d7e4-91da281454b0"
      },
      "source": [
        "df1.info()"
      ],
      "execution_count": 42,
      "outputs": [
        {
          "output_type": "stream",
          "text": [
            "<class 'pandas.core.frame.DataFrame'>\n",
            "Int64Index: 957 entries, 0 to 956\n",
            "Data columns (total 26 columns):\n",
            " #   Column                   Non-Null Count  Dtype  \n",
            "---  ------                   --------------  -----  \n",
            " 0   date                     957 non-null    object \n",
            " 1   home_team                957 non-null    object \n",
            " 2   away_team                957 non-null    object \n",
            " 3   home_score               957 non-null    int64  \n",
            " 4   away_score               957 non-null    int64  \n",
            " 5   tournament               957 non-null    object \n",
            " 6   city                     957 non-null    object \n",
            " 7   country                  957 non-null    object \n",
            " 8   neutral                  957 non-null    bool   \n",
            " 9   home_rank                957 non-null    int64  \n",
            " 10  confederation_x          957 non-null    object \n",
            " 11  away_rank                957 non-null    int64  \n",
            " 12  country_abrv             957 non-null    object \n",
            " 13  total_points             957 non-null    float64\n",
            " 14  previous_points          957 non-null    int64  \n",
            " 15  rank_change              957 non-null    int64  \n",
            " 16  cur_year_avg             957 non-null    float64\n",
            " 17  cur_year_avg_weighted    957 non-null    float64\n",
            " 18  last_year_avg            957 non-null    float64\n",
            " 19  last_year_avg_weighted   957 non-null    float64\n",
            " 20  two_year_ago_avg         957 non-null    float64\n",
            " 21  two_year_ago_weighted    957 non-null    float64\n",
            " 22  three_year_ago_avg       957 non-null    float64\n",
            " 23  three_year_ago_weighted  957 non-null    float64\n",
            " 24  confederation_y          957 non-null    object \n",
            " 25  rank_date                957 non-null    object \n",
            "dtypes: bool(1), float64(9), int64(6), object(10)\n",
            "memory usage: 195.3+ KB\n"
          ],
          "name": "stdout"
        }
      ]
    },
    {
      "cell_type": "markdown",
      "metadata": {
        "id": "2cjb-mkLDz4l",
        "colab_type": "text"
      },
      "source": [
        "our dataset now has 26 columns, some are repeated and we do not need them"
      ]
    },
    {
      "cell_type": "code",
      "metadata": {
        "id": "NSQvgr7eIH54",
        "colab_type": "code",
        "colab": {}
      },
      "source": [
        "# from looking at the shape, we have so many columns, so we get rid of the excess\n",
        "df2 = df1.drop(columns = ['confederation_x',\n",
        "       'country_abrv', 'total_points', 'previous_points', 'rank_change',\n",
        "       'cur_year_avg', 'cur_year_avg_weighted', 'last_year_avg',\n",
        "       'last_year_avg_weighted', 'two_year_ago_avg', 'two_year_ago_weighted',\n",
        "       'three_year_ago_avg', 'three_year_ago_weighted', 'confederation_y' ])"
      ],
      "execution_count": 43,
      "outputs": []
    },
    {
      "cell_type": "code",
      "metadata": {
        "id": "zCBkXWJ_I1Bc",
        "colab_type": "code",
        "colab": {
          "base_uri": "https://localhost:8080/",
          "height": 363
        },
        "outputId": "fd1ec1aa-3086-435a-d589-b2c0674936c2"
      },
      "source": [
        "#check the shape and info\n",
        "df2.shape\n",
        "df2.info()"
      ],
      "execution_count": 44,
      "outputs": [
        {
          "output_type": "stream",
          "text": [
            "<class 'pandas.core.frame.DataFrame'>\n",
            "Int64Index: 957 entries, 0 to 956\n",
            "Data columns (total 12 columns):\n",
            " #   Column      Non-Null Count  Dtype \n",
            "---  ------      --------------  ----- \n",
            " 0   date        957 non-null    object\n",
            " 1   home_team   957 non-null    object\n",
            " 2   away_team   957 non-null    object\n",
            " 3   home_score  957 non-null    int64 \n",
            " 4   away_score  957 non-null    int64 \n",
            " 5   tournament  957 non-null    object\n",
            " 6   city        957 non-null    object\n",
            " 7   country     957 non-null    object\n",
            " 8   neutral     957 non-null    bool  \n",
            " 9   home_rank   957 non-null    int64 \n",
            " 10  away_rank   957 non-null    int64 \n",
            " 11  rank_date   957 non-null    object\n",
            "dtypes: bool(1), int64(4), object(7)\n",
            "memory usage: 90.7+ KB\n"
          ],
          "name": "stdout"
        }
      ]
    },
    {
      "cell_type": "code",
      "metadata": {
        "id": "gL2IFIAyI0-9",
        "colab_type": "code",
        "colab": {}
      },
      "source": [
        "#drop the rank date column , it is duplicated\n",
        "df2.drop(columns= ['rank_date'], axis = 1, inplace = True)"
      ],
      "execution_count": 45,
      "outputs": []
    },
    {
      "cell_type": "code",
      "metadata": {
        "id": "ijnSOgqpJXxS",
        "colab_type": "code",
        "colab": {
          "base_uri": "https://localhost:8080/",
          "height": 35
        },
        "outputId": "9231e7bf-4339-4197-ad69-0de53eaa5416"
      },
      "source": [
        "df2.shape"
      ],
      "execution_count": 46,
      "outputs": [
        {
          "output_type": "execute_result",
          "data": {
            "text/plain": [
              "(957, 11)"
            ]
          },
          "metadata": {
            "tags": []
          },
          "execution_count": 46
        }
      ]
    },
    {
      "cell_type": "code",
      "metadata": {
        "id": "CWcSgUHJJolJ",
        "colab_type": "code",
        "colab": {
          "base_uri": "https://localhost:8080/",
          "height": 356
        },
        "outputId": "c277e6b7-a134-4e7a-e75a-8833e7b99796"
      },
      "source": [
        "#preview our dataset\n",
        "df2.head()"
      ],
      "execution_count": 47,
      "outputs": [
        {
          "output_type": "execute_result",
          "data": {
            "text/html": [
              "<div>\n",
              "<style scoped>\n",
              "    .dataframe tbody tr th:only-of-type {\n",
              "        vertical-align: middle;\n",
              "    }\n",
              "\n",
              "    .dataframe tbody tr th {\n",
              "        vertical-align: top;\n",
              "    }\n",
              "\n",
              "    .dataframe thead th {\n",
              "        text-align: right;\n",
              "    }\n",
              "</style>\n",
              "<table border=\"1\" class=\"dataframe\">\n",
              "  <thead>\n",
              "    <tr style=\"text-align: right;\">\n",
              "      <th></th>\n",
              "      <th>date</th>\n",
              "      <th>home_team</th>\n",
              "      <th>away_team</th>\n",
              "      <th>home_score</th>\n",
              "      <th>away_score</th>\n",
              "      <th>tournament</th>\n",
              "      <th>city</th>\n",
              "      <th>country</th>\n",
              "      <th>neutral</th>\n",
              "      <th>home_rank</th>\n",
              "      <th>away_rank</th>\n",
              "    </tr>\n",
              "  </thead>\n",
              "  <tbody>\n",
              "    <tr>\n",
              "      <th>0</th>\n",
              "      <td>1993-08-08</td>\n",
              "      <td>Bolivia</td>\n",
              "      <td>Uruguay</td>\n",
              "      <td>3</td>\n",
              "      <td>1</td>\n",
              "      <td>FIFA World Cup qualification</td>\n",
              "      <td>La Paz</td>\n",
              "      <td>Bolivia</td>\n",
              "      <td>False</td>\n",
              "      <td>59</td>\n",
              "      <td>59</td>\n",
              "    </tr>\n",
              "    <tr>\n",
              "      <th>1</th>\n",
              "      <td>1993-08-08</td>\n",
              "      <td>Brazil</td>\n",
              "      <td>Mexico</td>\n",
              "      <td>1</td>\n",
              "      <td>1</td>\n",
              "      <td>Friendly</td>\n",
              "      <td>Maceió</td>\n",
              "      <td>Brazil</td>\n",
              "      <td>False</td>\n",
              "      <td>8</td>\n",
              "      <td>8</td>\n",
              "    </tr>\n",
              "    <tr>\n",
              "      <th>2</th>\n",
              "      <td>1993-08-08</td>\n",
              "      <td>Ecuador</td>\n",
              "      <td>Venezuela</td>\n",
              "      <td>5</td>\n",
              "      <td>0</td>\n",
              "      <td>FIFA World Cup qualification</td>\n",
              "      <td>Quito</td>\n",
              "      <td>Ecuador</td>\n",
              "      <td>False</td>\n",
              "      <td>35</td>\n",
              "      <td>35</td>\n",
              "    </tr>\n",
              "    <tr>\n",
              "      <th>3</th>\n",
              "      <td>1993-08-08</td>\n",
              "      <td>Guinea</td>\n",
              "      <td>Sierra Leone</td>\n",
              "      <td>1</td>\n",
              "      <td>0</td>\n",
              "      <td>Friendly</td>\n",
              "      <td>Conakry</td>\n",
              "      <td>Guinea</td>\n",
              "      <td>False</td>\n",
              "      <td>65</td>\n",
              "      <td>65</td>\n",
              "    </tr>\n",
              "    <tr>\n",
              "      <th>4</th>\n",
              "      <td>1993-08-08</td>\n",
              "      <td>Paraguay</td>\n",
              "      <td>Argentina</td>\n",
              "      <td>1</td>\n",
              "      <td>3</td>\n",
              "      <td>FIFA World Cup qualification</td>\n",
              "      <td>Asunción</td>\n",
              "      <td>Paraguay</td>\n",
              "      <td>False</td>\n",
              "      <td>67</td>\n",
              "      <td>67</td>\n",
              "    </tr>\n",
              "  </tbody>\n",
              "</table>\n",
              "</div>"
            ],
            "text/plain": [
              "         date home_team     away_team  ...  neutral  home_rank away_rank\n",
              "0  1993-08-08   Bolivia       Uruguay  ...    False         59        59\n",
              "1  1993-08-08    Brazil        Mexico  ...    False          8         8\n",
              "2  1993-08-08   Ecuador     Venezuela  ...    False         35        35\n",
              "3  1993-08-08    Guinea  Sierra Leone  ...    False         65        65\n",
              "4  1993-08-08  Paraguay     Argentina  ...    False         67        67\n",
              "\n",
              "[5 rows x 11 columns]"
            ]
          },
          "metadata": {
            "tags": []
          },
          "execution_count": 47
        }
      ]
    },
    {
      "cell_type": "markdown",
      "metadata": {
        "id": "5OIwPJI4MCXz",
        "colab_type": "text"
      },
      "source": [
        "i woud love to know if the home team won , lost or drew and the same for the away team, decided to create a new column to che the difference in the scores between the teams."
      ]
    },
    {
      "cell_type": "code",
      "metadata": {
        "id": "8-4iJ5pGMBuT",
        "colab_type": "code",
        "colab": {
          "base_uri": "https://localhost:8080/",
          "height": 356
        },
        "outputId": "d4e9e7f4-1523-4707-c93b-125c4923eac9"
      },
      "source": [
        "# the difference in the scores \n",
        "\n",
        "df2['goal_difference'] = df2['home_score'] - df2['away_score']\n",
        "df2.head()"
      ],
      "execution_count": 48,
      "outputs": [
        {
          "output_type": "execute_result",
          "data": {
            "text/html": [
              "<div>\n",
              "<style scoped>\n",
              "    .dataframe tbody tr th:only-of-type {\n",
              "        vertical-align: middle;\n",
              "    }\n",
              "\n",
              "    .dataframe tbody tr th {\n",
              "        vertical-align: top;\n",
              "    }\n",
              "\n",
              "    .dataframe thead th {\n",
              "        text-align: right;\n",
              "    }\n",
              "</style>\n",
              "<table border=\"1\" class=\"dataframe\">\n",
              "  <thead>\n",
              "    <tr style=\"text-align: right;\">\n",
              "      <th></th>\n",
              "      <th>date</th>\n",
              "      <th>home_team</th>\n",
              "      <th>away_team</th>\n",
              "      <th>home_score</th>\n",
              "      <th>away_score</th>\n",
              "      <th>tournament</th>\n",
              "      <th>city</th>\n",
              "      <th>country</th>\n",
              "      <th>neutral</th>\n",
              "      <th>home_rank</th>\n",
              "      <th>away_rank</th>\n",
              "      <th>goal_difference</th>\n",
              "    </tr>\n",
              "  </thead>\n",
              "  <tbody>\n",
              "    <tr>\n",
              "      <th>0</th>\n",
              "      <td>1993-08-08</td>\n",
              "      <td>Bolivia</td>\n",
              "      <td>Uruguay</td>\n",
              "      <td>3</td>\n",
              "      <td>1</td>\n",
              "      <td>FIFA World Cup qualification</td>\n",
              "      <td>La Paz</td>\n",
              "      <td>Bolivia</td>\n",
              "      <td>False</td>\n",
              "      <td>59</td>\n",
              "      <td>59</td>\n",
              "      <td>2</td>\n",
              "    </tr>\n",
              "    <tr>\n",
              "      <th>1</th>\n",
              "      <td>1993-08-08</td>\n",
              "      <td>Brazil</td>\n",
              "      <td>Mexico</td>\n",
              "      <td>1</td>\n",
              "      <td>1</td>\n",
              "      <td>Friendly</td>\n",
              "      <td>Maceió</td>\n",
              "      <td>Brazil</td>\n",
              "      <td>False</td>\n",
              "      <td>8</td>\n",
              "      <td>8</td>\n",
              "      <td>0</td>\n",
              "    </tr>\n",
              "    <tr>\n",
              "      <th>2</th>\n",
              "      <td>1993-08-08</td>\n",
              "      <td>Ecuador</td>\n",
              "      <td>Venezuela</td>\n",
              "      <td>5</td>\n",
              "      <td>0</td>\n",
              "      <td>FIFA World Cup qualification</td>\n",
              "      <td>Quito</td>\n",
              "      <td>Ecuador</td>\n",
              "      <td>False</td>\n",
              "      <td>35</td>\n",
              "      <td>35</td>\n",
              "      <td>5</td>\n",
              "    </tr>\n",
              "    <tr>\n",
              "      <th>3</th>\n",
              "      <td>1993-08-08</td>\n",
              "      <td>Guinea</td>\n",
              "      <td>Sierra Leone</td>\n",
              "      <td>1</td>\n",
              "      <td>0</td>\n",
              "      <td>Friendly</td>\n",
              "      <td>Conakry</td>\n",
              "      <td>Guinea</td>\n",
              "      <td>False</td>\n",
              "      <td>65</td>\n",
              "      <td>65</td>\n",
              "      <td>1</td>\n",
              "    </tr>\n",
              "    <tr>\n",
              "      <th>4</th>\n",
              "      <td>1993-08-08</td>\n",
              "      <td>Paraguay</td>\n",
              "      <td>Argentina</td>\n",
              "      <td>1</td>\n",
              "      <td>3</td>\n",
              "      <td>FIFA World Cup qualification</td>\n",
              "      <td>Asunción</td>\n",
              "      <td>Paraguay</td>\n",
              "      <td>False</td>\n",
              "      <td>67</td>\n",
              "      <td>67</td>\n",
              "      <td>-2</td>\n",
              "    </tr>\n",
              "  </tbody>\n",
              "</table>\n",
              "</div>"
            ],
            "text/plain": [
              "         date home_team     away_team  ...  home_rank  away_rank goal_difference\n",
              "0  1993-08-08   Bolivia       Uruguay  ...         59         59               2\n",
              "1  1993-08-08    Brazil        Mexico  ...          8          8               0\n",
              "2  1993-08-08   Ecuador     Venezuela  ...         35         35               5\n",
              "3  1993-08-08    Guinea  Sierra Leone  ...         65         65               1\n",
              "4  1993-08-08  Paraguay     Argentina  ...         67         67              -2\n",
              "\n",
              "[5 rows x 12 columns]"
            ]
          },
          "metadata": {
            "tags": []
          },
          "execution_count": 48
        }
      ]
    },
    {
      "cell_type": "markdown",
      "metadata": {
        "id": "-p1nEL8GMyHP",
        "colab_type": "text"
      },
      "source": [
        "from our new column, we can see the difference, a negative difference means the home lost whereas a positive difference mean the home team won and a zero mean they drew."
      ]
    },
    {
      "cell_type": "code",
      "metadata": {
        "id": "pv0AjL6tNsBL",
        "colab_type": "code",
        "colab": {}
      },
      "source": [
        "# we create a new column to tell if it is a win, lose or draw\n",
        "df2.loc[df2['home_score'] < df2['away_score'],'game_results'] = 'lose'\n",
        "df2.loc[df2['home_score'] > df2['away_score'],'game_results'] = 'win'\n",
        "df2.loc[df2['home_score'] == df2['away_score'],'game_results'] = 'draw'"
      ],
      "execution_count": 57,
      "outputs": []
    },
    {
      "cell_type": "code",
      "metadata": {
        "id": "lDC6hslZbfeD",
        "colab_type": "code",
        "colab": {
          "base_uri": "https://localhost:8080/",
          "height": 356
        },
        "outputId": "29ec2452-5d29-44cc-b7c3-3e75e04738d7"
      },
      "source": [
        "# preview our dataset\n",
        "df2.head()"
      ],
      "execution_count": 58,
      "outputs": [
        {
          "output_type": "execute_result",
          "data": {
            "text/html": [
              "<div>\n",
              "<style scoped>\n",
              "    .dataframe tbody tr th:only-of-type {\n",
              "        vertical-align: middle;\n",
              "    }\n",
              "\n",
              "    .dataframe tbody tr th {\n",
              "        vertical-align: top;\n",
              "    }\n",
              "\n",
              "    .dataframe thead th {\n",
              "        text-align: right;\n",
              "    }\n",
              "</style>\n",
              "<table border=\"1\" class=\"dataframe\">\n",
              "  <thead>\n",
              "    <tr style=\"text-align: right;\">\n",
              "      <th></th>\n",
              "      <th>date</th>\n",
              "      <th>home_team</th>\n",
              "      <th>away_team</th>\n",
              "      <th>home_score</th>\n",
              "      <th>away_score</th>\n",
              "      <th>tournament</th>\n",
              "      <th>city</th>\n",
              "      <th>country</th>\n",
              "      <th>neutral</th>\n",
              "      <th>home_rank</th>\n",
              "      <th>away_rank</th>\n",
              "      <th>goal_difference</th>\n",
              "      <th>game_results</th>\n",
              "    </tr>\n",
              "  </thead>\n",
              "  <tbody>\n",
              "    <tr>\n",
              "      <th>0</th>\n",
              "      <td>1993-08-08</td>\n",
              "      <td>Bolivia</td>\n",
              "      <td>Uruguay</td>\n",
              "      <td>3</td>\n",
              "      <td>1</td>\n",
              "      <td>FIFA World Cup qualification</td>\n",
              "      <td>La Paz</td>\n",
              "      <td>Bolivia</td>\n",
              "      <td>False</td>\n",
              "      <td>59</td>\n",
              "      <td>59</td>\n",
              "      <td>2</td>\n",
              "      <td>win</td>\n",
              "    </tr>\n",
              "    <tr>\n",
              "      <th>1</th>\n",
              "      <td>1993-08-08</td>\n",
              "      <td>Brazil</td>\n",
              "      <td>Mexico</td>\n",
              "      <td>1</td>\n",
              "      <td>1</td>\n",
              "      <td>Friendly</td>\n",
              "      <td>Maceió</td>\n",
              "      <td>Brazil</td>\n",
              "      <td>False</td>\n",
              "      <td>8</td>\n",
              "      <td>8</td>\n",
              "      <td>0</td>\n",
              "      <td>draw</td>\n",
              "    </tr>\n",
              "    <tr>\n",
              "      <th>2</th>\n",
              "      <td>1993-08-08</td>\n",
              "      <td>Ecuador</td>\n",
              "      <td>Venezuela</td>\n",
              "      <td>5</td>\n",
              "      <td>0</td>\n",
              "      <td>FIFA World Cup qualification</td>\n",
              "      <td>Quito</td>\n",
              "      <td>Ecuador</td>\n",
              "      <td>False</td>\n",
              "      <td>35</td>\n",
              "      <td>35</td>\n",
              "      <td>5</td>\n",
              "      <td>win</td>\n",
              "    </tr>\n",
              "    <tr>\n",
              "      <th>3</th>\n",
              "      <td>1993-08-08</td>\n",
              "      <td>Guinea</td>\n",
              "      <td>Sierra Leone</td>\n",
              "      <td>1</td>\n",
              "      <td>0</td>\n",
              "      <td>Friendly</td>\n",
              "      <td>Conakry</td>\n",
              "      <td>Guinea</td>\n",
              "      <td>False</td>\n",
              "      <td>65</td>\n",
              "      <td>65</td>\n",
              "      <td>1</td>\n",
              "      <td>win</td>\n",
              "    </tr>\n",
              "    <tr>\n",
              "      <th>4</th>\n",
              "      <td>1993-08-08</td>\n",
              "      <td>Paraguay</td>\n",
              "      <td>Argentina</td>\n",
              "      <td>1</td>\n",
              "      <td>3</td>\n",
              "      <td>FIFA World Cup qualification</td>\n",
              "      <td>Asunción</td>\n",
              "      <td>Paraguay</td>\n",
              "      <td>False</td>\n",
              "      <td>67</td>\n",
              "      <td>67</td>\n",
              "      <td>-2</td>\n",
              "      <td>lose</td>\n",
              "    </tr>\n",
              "  </tbody>\n",
              "</table>\n",
              "</div>"
            ],
            "text/plain": [
              "         date home_team     away_team  ...  away_rank  goal_difference game_results\n",
              "0  1993-08-08   Bolivia       Uruguay  ...         59                2          win\n",
              "1  1993-08-08    Brazil        Mexico  ...          8                0         draw\n",
              "2  1993-08-08   Ecuador     Venezuela  ...         35                5          win\n",
              "3  1993-08-08    Guinea  Sierra Leone  ...         65                1          win\n",
              "4  1993-08-08  Paraguay     Argentina  ...         67               -2         lose\n",
              "\n",
              "[5 rows x 13 columns]"
            ]
          },
          "metadata": {
            "tags": []
          },
          "execution_count": 58
        }
      ]
    },
    {
      "cell_type": "code",
      "metadata": {
        "id": "HSiPcQjmb0bE",
        "colab_type": "code",
        "colab": {
          "base_uri": "https://localhost:8080/",
          "height": 235
        },
        "outputId": "90c2d254-4e70-4788-9bab-4081a0902f4b"
      },
      "source": [
        "#check for duplicates in our final dataset\n",
        "df2.duplicated()"
      ],
      "execution_count": 51,
      "outputs": [
        {
          "output_type": "execute_result",
          "data": {
            "text/plain": [
              "0      False\n",
              "1      False\n",
              "2      False\n",
              "3      False\n",
              "4      False\n",
              "       ...  \n",
              "952    False\n",
              "953    False\n",
              "954    False\n",
              "955    False\n",
              "956    False\n",
              "Length: 957, dtype: bool"
            ]
          },
          "metadata": {
            "tags": []
          },
          "execution_count": 51
        }
      ]
    },
    {
      "cell_type": "markdown",
      "metadata": {
        "id": "DFfVj-N9b-DU",
        "colab_type": "text"
      },
      "source": [
        "we have no duplicates"
      ]
    },
    {
      "cell_type": "markdown",
      "metadata": {
        "id": "V4QkcUzoeGBu",
        "colab_type": "text"
      },
      "source": [
        "correlation"
      ]
    },
    {
      "cell_type": "code",
      "metadata": {
        "id": "0Rk7xVYZeIeu",
        "colab_type": "code",
        "colab": {
          "base_uri": "https://localhost:8080/",
          "height": 655
        },
        "outputId": "1919125c-6971-4664-8e4d-48e2ebbe18a0"
      },
      "source": [
        "# Correlation \n",
        "plt.figure(dpi = 120,figsize= (6,5))\n",
        "corr = df2.corr()\n",
        "sns.heatmap(data=corr, square=True , annot=True, cbar=True)"
      ],
      "execution_count": 59,
      "outputs": [
        {
          "output_type": "execute_result",
          "data": {
            "text/plain": [
              "<matplotlib.axes._subplots.AxesSubplot at 0x7ff36cf61dd8>"
            ]
          },
          "metadata": {
            "tags": []
          },
          "execution_count": 59
        },
        {
          "output_type": "display_data",
          "data": {
            "image/png": "[encoded data removed]",
            "text/plain": [
              "<Figure size 720x600 with 2 Axes>"
            ]
          },
          "metadata": {
            "tags": [],
            "needs_background": "light"
          }
        }
      ]
    },
    {
      "cell_type": "markdown",
      "metadata": {
        "id": "gXodh8ginbYg",
        "colab_type": "text"
      },
      "source": [
        "from the matrix, we do see that most of the variables are moderately to weakly correlated\n",
        "\n",
        "the diagonal is 1, as expected."
      ]
    },
    {
      "cell_type": "markdown",
      "metadata": {
        "id": "A6AbOzpRaGUe",
        "colab_type": "text"
      },
      "source": [
        "EXPLORATORY DATA ANALYSIS"
      ]
    },
    {
      "cell_type": "code",
      "metadata": {
        "id": "g63XPgVliovz",
        "colab_type": "code",
        "colab": {
          "base_uri": "https://localhost:8080/",
          "height": 288
        },
        "outputId": "42b17ea4-988d-4185-8b11-beb1d685c716"
      },
      "source": [
        "# we view the descriptive analysis\n",
        "df2.describe()"
      ],
      "execution_count": 60,
      "outputs": [
        {
          "output_type": "execute_result",
          "data": {
            "text/html": [
              "<div>\n",
              "<style scoped>\n",
              "    .dataframe tbody tr th:only-of-type {\n",
              "        vertical-align: middle;\n",
              "    }\n",
              "\n",
              "    .dataframe tbody tr th {\n",
              "        vertical-align: top;\n",
              "    }\n",
              "\n",
              "    .dataframe thead th {\n",
              "        text-align: right;\n",
              "    }\n",
              "</style>\n",
              "<table border=\"1\" class=\"dataframe\">\n",
              "  <thead>\n",
              "    <tr style=\"text-align: right;\">\n",
              "      <th></th>\n",
              "      <th>home_score</th>\n",
              "      <th>away_score</th>\n",
              "      <th>home_rank</th>\n",
              "      <th>away_rank</th>\n",
              "      <th>goal_difference</th>\n",
              "    </tr>\n",
              "  </thead>\n",
              "  <tbody>\n",
              "    <tr>\n",
              "      <th>count</th>\n",
              "      <td>957.000000</td>\n",
              "      <td>957.000000</td>\n",
              "      <td>957.000000</td>\n",
              "      <td>957.000000</td>\n",
              "      <td>957.000000</td>\n",
              "    </tr>\n",
              "    <tr>\n",
              "      <th>mean</th>\n",
              "      <td>1.665622</td>\n",
              "      <td>1.004180</td>\n",
              "      <td>66.561129</td>\n",
              "      <td>66.561129</td>\n",
              "      <td>0.661442</td>\n",
              "    </tr>\n",
              "    <tr>\n",
              "      <th>std</th>\n",
              "      <td>1.938111</td>\n",
              "      <td>1.146207</td>\n",
              "      <td>48.155276</td>\n",
              "      <td>48.155276</td>\n",
              "      <td>2.378492</td>\n",
              "    </tr>\n",
              "    <tr>\n",
              "      <th>min</th>\n",
              "      <td>0.000000</td>\n",
              "      <td>0.000000</td>\n",
              "      <td>1.000000</td>\n",
              "      <td>1.000000</td>\n",
              "      <td>-8.000000</td>\n",
              "    </tr>\n",
              "    <tr>\n",
              "      <th>25%</th>\n",
              "      <td>0.000000</td>\n",
              "      <td>0.000000</td>\n",
              "      <td>27.000000</td>\n",
              "      <td>27.000000</td>\n",
              "      <td>-1.000000</td>\n",
              "    </tr>\n",
              "    <tr>\n",
              "      <th>50%</th>\n",
              "      <td>1.000000</td>\n",
              "      <td>1.000000</td>\n",
              "      <td>59.000000</td>\n",
              "      <td>59.000000</td>\n",
              "      <td>0.000000</td>\n",
              "    </tr>\n",
              "    <tr>\n",
              "      <th>75%</th>\n",
              "      <td>2.000000</td>\n",
              "      <td>2.000000</td>\n",
              "      <td>97.000000</td>\n",
              "      <td>97.000000</td>\n",
              "      <td>2.000000</td>\n",
              "    </tr>\n",
              "    <tr>\n",
              "      <th>max</th>\n",
              "      <td>31.000000</td>\n",
              "      <td>9.000000</td>\n",
              "      <td>206.000000</td>\n",
              "      <td>206.000000</td>\n",
              "      <td>31.000000</td>\n",
              "    </tr>\n",
              "  </tbody>\n",
              "</table>\n",
              "</div>"
            ],
            "text/plain": [
              "       home_score  away_score   home_rank   away_rank  goal_difference\n",
              "count  957.000000  957.000000  957.000000  957.000000       957.000000\n",
              "mean     1.665622    1.004180   66.561129   66.561129         0.661442\n",
              "std      1.938111    1.146207   48.155276   48.155276         2.378492\n",
              "min      0.000000    0.000000    1.000000    1.000000        -8.000000\n",
              "25%      0.000000    0.000000   27.000000   27.000000        -1.000000\n",
              "50%      1.000000    1.000000   59.000000   59.000000         0.000000\n",
              "75%      2.000000    2.000000   97.000000   97.000000         2.000000\n",
              "max     31.000000    9.000000  206.000000  206.000000        31.000000"
            ]
          },
          "metadata": {
            "tags": []
          },
          "execution_count": 60
        }
      ]
    },
    {
      "cell_type": "markdown",
      "metadata": {
        "id": "lZaMYNTvLOxU",
        "colab_type": "text"
      },
      "source": [
        "we had a total of 957 score, the home score mean is 1.665622, the away score mean  is 1.004180, the max score was 31 for home score and 9 for away score. we had min score as 0 across\n",
        "\n",
        "on the goal difference, the min is -8 and max is 31"
      ]
    },
    {
      "cell_type": "code",
      "metadata": {
        "id": "SlDkeIzqKyTX",
        "colab_type": "code",
        "colab": {
          "base_uri": "https://localhost:8080/",
          "height": 706
        },
        "outputId": "2eac9472-6dd1-4ca9-d313-c5d308cbcb8f"
      },
      "source": [
        "#histogram of the home team match using count\n",
        "plt.figure(figsize = (7,8), dpi = 100)\n",
        "sns.countplot(df2['game_results'])\n",
        "plt.xlabel('Status (draw , lose , win)')\n",
        "plt.ylabel('Count')\n",
        "plt.title(' match outcomes')\n",
        "plt.show()"
      ],
      "execution_count": 61,
      "outputs": [
        {
          "output_type": "display_data",
          "data": {
            "image/png": "[encoded data removed]",
            "text/plain": [
              "<Figure size 700x800 with 1 Axes>"
            ]
          },
          "metadata": {
            "tags": [],
            "needs_background": "light"
          }
        }
      ]
    },
    {
      "cell_type": "markdown",
      "metadata": {
        "id": "pZ1xsCoRfYiz",
        "colab_type": "text"
      },
      "source": [
        "from the graph, home team won more matches than they did lost. had equal draw and lost matches. it is likely for the home team to win a match than to draw or lost."
      ]
    },
    {
      "cell_type": "code",
      "metadata": {
        "id": "lQc1ehX1fXzc",
        "colab_type": "code",
        "colab": {
          "base_uri": "https://localhost:8080/",
          "height": 352
        },
        "outputId": "d29b425f-98d6-4678-a8bb-667810df6f02"
      },
      "source": [
        "# we want to see if the matches occured on a neutral ground or not\n",
        "df2.neutral.value_counts().plot(kind = 'bar')\n",
        "plt.title(\"was the match on a neutral ground\")\n",
        "print(df2.neutral.value_counts())"
      ],
      "execution_count": 62,
      "outputs": [
        {
          "output_type": "stream",
          "text": [
            "False    799\n",
            "True     158\n",
            "Name: neutral, dtype: int64\n"
          ],
          "name": "stdout"
        },
        {
          "output_type": "display_data",
          "data": {
            "image/png": "[encoded data removed]",
            "text/plain": [
              "<Figure size 432x288 with 1 Axes>"
            ]
          },
          "metadata": {
            "tags": [],
            "needs_background": "light"
          }
        }
      ]
    },
    {
      "cell_type": "markdown",
      "metadata": {
        "id": "_Uobgti0hjV-",
        "colab_type": "text"
      },
      "source": [
        "from the plot, most  matches were not on neutral grounds, 733 were on non-neutral and only 138 were on neutral grounds"
      ]
    },
    {
      "cell_type": "code",
      "metadata": {
        "id": "mkrLFeHYc7VT",
        "colab_type": "code",
        "colab": {
          "base_uri": "https://localhost:8080/",
          "height": 1000
        },
        "outputId": "d0729b3b-7f6f-4482-8bb4-3e828bc974ef"
      },
      "source": [
        "# we check for the tournament types\n",
        "# let's see the different types of tournaments\n",
        "plt.figure(figsize = (7,8), dpi = 100)\n",
        "df2.tournament.value_counts().plot(kind='barh')\n",
        "print(df2.tournament.value_counts())"
      ],
      "execution_count": 63,
      "outputs": [
        {
          "output_type": "stream",
          "text": [
            "Friendly                                      623\n",
            "FIFA World Cup qualification                  151\n",
            "UEFA Euro qualification                        39\n",
            "AFC Asian Cup qualification                    35\n",
            "Cyprus International Tournament                 8\n",
            "AFF Championship                                7\n",
            "Gulf Cup                                        7\n",
            "AFC Asian Cup                                   6\n",
            "CECAFA Cup                                      6\n",
            "Copa América                                    6\n",
            "Gold Cup                                        5\n",
            "CFU Caribbean Cup                               5\n",
            "African Cup of Nations qualification            5\n",
            "Windward Islands Tournament                     4\n",
            "African Cup of Nations                          4\n",
            "African Nations Championship                    4\n",
            "SAFF Cup                                        4\n",
            "Gold Cup qualification                          4\n",
            "Malta International Tournament                  3\n",
            "United Arab Emirates Friendship Tournament      3\n",
            "King's Cup                                      3\n",
            "Confederations Cup                              2\n",
            "Oceania Nations Cup                             2\n",
            "South Pacific Games                             2\n",
            "UNCAF Cup                                       2\n",
            "Prime Minister's Cup                            2\n",
            "EAFF Championship                               2\n",
            "Merdeka Tournament                              2\n",
            "CFU Caribbean Cup qualification                 2\n",
            "AFC Challenge Cup qualification                 1\n",
            "Intercontinental Cup                            1\n",
            "Nehru Cup                                       1\n",
            "Copa del Pacífico                               1\n",
            "UAFA Cup                                        1\n",
            "COSAFA Cup                                      1\n",
            "USA Cup                                         1\n",
            "Millennium Cup                                  1\n",
            "Korea Cup                                       1\n",
            "Name: tournament, dtype: int64\n"
          ],
          "name": "stdout"
        },
        {
          "output_type": "display_data",
          "data": {
            "image/png": "[encoded data removed]",
            "text/plain": [
              "<Figure size 700x800 with 1 Axes>"
            ]
          },
          "metadata": {
            "tags": [],
            "needs_background": "light"
          }
        }
      ]
    },
    {
      "cell_type": "markdown",
      "metadata": {
        "id": "Dq8FSplojjkk",
        "colab_type": "text"
      },
      "source": [
        "from the plot above, most tournaments were friendly with 574, the fifa world cup qualifications had 134 and the other tournaments had significantly small numbers."
      ]
    },
    {
      "cell_type": "code",
      "metadata": {
        "id": "H0okrY170ALd",
        "colab_type": "code",
        "colab": {
          "base_uri": "https://localhost:8080/",
          "height": 298
        },
        "outputId": "bfd40010-1473-4658-8e87-893a442815f2"
      },
      "source": [
        "# countplot of the home team results\n",
        "sns.countplot(x='game_results', data=df2, hue='neutral')"
      ],
      "execution_count": 64,
      "outputs": [
        {
          "output_type": "execute_result",
          "data": {
            "text/plain": [
              "<matplotlib.axes._subplots.AxesSubplot at 0x7ff36cc58f60>"
            ]
          },
          "metadata": {
            "tags": []
          },
          "execution_count": 64
        },
        {
          "output_type": "display_data",
          "data": {
            "image/png": "[encoded data removed]",
            "text/plain": [
              "<Figure size 432x288 with 1 Axes>"
            ]
          },
          "metadata": {
            "tags": [],
            "needs_background": "light"
          }
        }
      ]
    },
    {
      "cell_type": "markdown",
      "metadata": {
        "id": "5_t2N3VJ0Lgw",
        "colab_type": "text"
      },
      "source": [
        "most of the matches were won on unfriendly/ not neutral grounds."
      ]
    },
    {
      "cell_type": "code",
      "metadata": {
        "id": "dz8mJ4u4-EyF",
        "colab_type": "code",
        "colab": {}
      },
      "source": [
        "# we drop the columns that we no longer need\n",
        "df2.drop(columns = ['city', 'country', 'neutral'], inplace = True)"
      ],
      "execution_count": 65,
      "outputs": []
    },
    {
      "cell_type": "code",
      "metadata": {
        "id": "EFt3TIpNG5Vm",
        "colab_type": "code",
        "colab": {}
      },
      "source": [
        "# Encoding the categorical columns \n",
        "#\n",
        "\n",
        "le = LabelEncoder()\n",
        "df_encoded = df2.apply(le.fit_transform)"
      ],
      "execution_count": 66,
      "outputs": []
    },
    {
      "cell_type": "code",
      "metadata": {
        "id": "7r4D7zAkiy91",
        "colab_type": "code",
        "colab": {
          "base_uri": "https://localhost:8080/",
          "height": 218
        },
        "outputId": "d8ceef8f-021b-41cc-a569-468f3c30eeb6"
      },
      "source": [
        "df_encoded.tail()"
      ],
      "execution_count": 67,
      "outputs": [
        {
          "output_type": "execute_result",
          "data": {
            "text/html": [
              "<div>\n",
              "<style scoped>\n",
              "    .dataframe tbody tr th:only-of-type {\n",
              "        vertical-align: middle;\n",
              "    }\n",
              "\n",
              "    .dataframe tbody tr th {\n",
              "        vertical-align: top;\n",
              "    }\n",
              "\n",
              "    .dataframe thead th {\n",
              "        text-align: right;\n",
              "    }\n",
              "</style>\n",
              "<table border=\"1\" class=\"dataframe\">\n",
              "  <thead>\n",
              "    <tr style=\"text-align: right;\">\n",
              "      <th></th>\n",
              "      <th>date</th>\n",
              "      <th>home_team</th>\n",
              "      <th>away_team</th>\n",
              "      <th>home_score</th>\n",
              "      <th>away_score</th>\n",
              "      <th>tournament</th>\n",
              "      <th>home_rank</th>\n",
              "      <th>away_rank</th>\n",
              "      <th>goal_difference</th>\n",
              "      <th>game_results</th>\n",
              "    </tr>\n",
              "  </thead>\n",
              "  <tbody>\n",
              "    <tr>\n",
              "      <th>952</th>\n",
              "      <td>163</td>\n",
              "      <td>45</td>\n",
              "      <td>38</td>\n",
              "      <td>2</td>\n",
              "      <td>0</td>\n",
              "      <td>17</td>\n",
              "      <td>11</td>\n",
              "      <td>11</td>\n",
              "      <td>10</td>\n",
              "      <td>2</td>\n",
              "    </tr>\n",
              "    <tr>\n",
              "      <th>953</th>\n",
              "      <td>163</td>\n",
              "      <td>156</td>\n",
              "      <td>173</td>\n",
              "      <td>3</td>\n",
              "      <td>0</td>\n",
              "      <td>17</td>\n",
              "      <td>13</td>\n",
              "      <td>13</td>\n",
              "      <td>11</td>\n",
              "      <td>2</td>\n",
              "    </tr>\n",
              "    <tr>\n",
              "      <th>954</th>\n",
              "      <td>163</td>\n",
              "      <td>119</td>\n",
              "      <td>2</td>\n",
              "      <td>3</td>\n",
              "      <td>0</td>\n",
              "      <td>17</td>\n",
              "      <td>3</td>\n",
              "      <td>3</td>\n",
              "      <td>11</td>\n",
              "      <td>2</td>\n",
              "    </tr>\n",
              "    <tr>\n",
              "      <th>955</th>\n",
              "      <td>163</td>\n",
              "      <td>67</td>\n",
              "      <td>64</td>\n",
              "      <td>2</td>\n",
              "      <td>2</td>\n",
              "      <td>17</td>\n",
              "      <td>21</td>\n",
              "      <td>21</td>\n",
              "      <td>8</td>\n",
              "      <td>0</td>\n",
              "    </tr>\n",
              "    <tr>\n",
              "      <th>956</th>\n",
              "      <td>163</td>\n",
              "      <td>68</td>\n",
              "      <td>111</td>\n",
              "      <td>1</td>\n",
              "      <td>2</td>\n",
              "      <td>21</td>\n",
              "      <td>96</td>\n",
              "      <td>96</td>\n",
              "      <td>7</td>\n",
              "      <td>1</td>\n",
              "    </tr>\n",
              "  </tbody>\n",
              "</table>\n",
              "</div>"
            ],
            "text/plain": [
              "     date  home_team  away_team  ...  away_rank  goal_difference  game_results\n",
              "952   163         45         38  ...         11               10             2\n",
              "953   163        156        173  ...         13               11             2\n",
              "954   163        119          2  ...          3               11             2\n",
              "955   163         67         64  ...         21                8             0\n",
              "956   163         68        111  ...         96                7             1\n",
              "\n",
              "[5 rows x 10 columns]"
            ]
          },
          "metadata": {
            "tags": []
          },
          "execution_count": 67
        }
      ]
    },
    {
      "cell_type": "code",
      "metadata": {
        "id": "g-DQG3Oi9PsZ",
        "colab_type": "code",
        "colab": {
          "base_uri": "https://localhost:8080/",
          "height": 368
        },
        "outputId": "222b77dd-3159-41d3-f251-0b3645166546"
      },
      "source": [
        "#check for colinearity\n",
        "corr = df_encoded.corr()\n",
        "corr"
      ],
      "execution_count": 68,
      "outputs": [
        {
          "output_type": "execute_result",
          "data": {
            "text/html": [
              "<div>\n",
              "<style scoped>\n",
              "    .dataframe tbody tr th:only-of-type {\n",
              "        vertical-align: middle;\n",
              "    }\n",
              "\n",
              "    .dataframe tbody tr th {\n",
              "        vertical-align: top;\n",
              "    }\n",
              "\n",
              "    .dataframe thead th {\n",
              "        text-align: right;\n",
              "    }\n",
              "</style>\n",
              "<table border=\"1\" class=\"dataframe\">\n",
              "  <thead>\n",
              "    <tr style=\"text-align: right;\">\n",
              "      <th></th>\n",
              "      <th>date</th>\n",
              "      <th>home_team</th>\n",
              "      <th>away_team</th>\n",
              "      <th>home_score</th>\n",
              "      <th>away_score</th>\n",
              "      <th>tournament</th>\n",
              "      <th>home_rank</th>\n",
              "      <th>away_rank</th>\n",
              "      <th>goal_difference</th>\n",
              "      <th>game_results</th>\n",
              "    </tr>\n",
              "  </thead>\n",
              "  <tbody>\n",
              "    <tr>\n",
              "      <th>date</th>\n",
              "      <td>1.000000</td>\n",
              "      <td>0.013666</td>\n",
              "      <td>-0.013760</td>\n",
              "      <td>-0.010266</td>\n",
              "      <td>-0.040333</td>\n",
              "      <td>-0.070075</td>\n",
              "      <td>0.199797</td>\n",
              "      <td>0.199797</td>\n",
              "      <td>0.013030</td>\n",
              "      <td>-0.002399</td>\n",
              "    </tr>\n",
              "    <tr>\n",
              "      <th>home_team</th>\n",
              "      <td>0.013666</td>\n",
              "      <td>1.000000</td>\n",
              "      <td>0.035432</td>\n",
              "      <td>0.007441</td>\n",
              "      <td>-0.056736</td>\n",
              "      <td>-0.073295</td>\n",
              "      <td>-0.011383</td>\n",
              "      <td>-0.011383</td>\n",
              "      <td>0.036247</td>\n",
              "      <td>0.003597</td>\n",
              "    </tr>\n",
              "    <tr>\n",
              "      <th>away_team</th>\n",
              "      <td>-0.013760</td>\n",
              "      <td>0.035432</td>\n",
              "      <td>1.000000</td>\n",
              "      <td>-0.088295</td>\n",
              "      <td>0.052207</td>\n",
              "      <td>-0.051199</td>\n",
              "      <td>-0.002396</td>\n",
              "      <td>-0.002396</td>\n",
              "      <td>-0.096991</td>\n",
              "      <td>-0.042119</td>\n",
              "    </tr>\n",
              "    <tr>\n",
              "      <th>home_score</th>\n",
              "      <td>-0.010266</td>\n",
              "      <td>0.007441</td>\n",
              "      <td>-0.088295</td>\n",
              "      <td>1.000000</td>\n",
              "      <td>-0.139217</td>\n",
              "      <td>-0.034036</td>\n",
              "      <td>-0.036540</td>\n",
              "      <td>-0.036540</td>\n",
              "      <td>0.854413</td>\n",
              "      <td>0.516216</td>\n",
              "    </tr>\n",
              "    <tr>\n",
              "      <th>away_score</th>\n",
              "      <td>-0.040333</td>\n",
              "      <td>-0.056736</td>\n",
              "      <td>0.052207</td>\n",
              "      <td>-0.139217</td>\n",
              "      <td>1.000000</td>\n",
              "      <td>0.008062</td>\n",
              "      <td>0.128748</td>\n",
              "      <td>0.128748</td>\n",
              "      <td>-0.633283</td>\n",
              "      <td>-0.226516</td>\n",
              "    </tr>\n",
              "    <tr>\n",
              "      <th>tournament</th>\n",
              "      <td>-0.070075</td>\n",
              "      <td>-0.073295</td>\n",
              "      <td>-0.051199</td>\n",
              "      <td>-0.034036</td>\n",
              "      <td>0.008062</td>\n",
              "      <td>1.000000</td>\n",
              "      <td>-0.085439</td>\n",
              "      <td>-0.085439</td>\n",
              "      <td>-0.030743</td>\n",
              "      <td>-0.026535</td>\n",
              "    </tr>\n",
              "    <tr>\n",
              "      <th>home_rank</th>\n",
              "      <td>0.199797</td>\n",
              "      <td>-0.011383</td>\n",
              "      <td>-0.002396</td>\n",
              "      <td>-0.036540</td>\n",
              "      <td>0.128748</td>\n",
              "      <td>-0.085439</td>\n",
              "      <td>1.000000</td>\n",
              "      <td>1.000000</td>\n",
              "      <td>-0.096920</td>\n",
              "      <td>-0.074546</td>\n",
              "    </tr>\n",
              "    <tr>\n",
              "      <th>away_rank</th>\n",
              "      <td>0.199797</td>\n",
              "      <td>-0.011383</td>\n",
              "      <td>-0.002396</td>\n",
              "      <td>-0.036540</td>\n",
              "      <td>0.128748</td>\n",
              "      <td>-0.085439</td>\n",
              "      <td>1.000000</td>\n",
              "      <td>1.000000</td>\n",
              "      <td>-0.096920</td>\n",
              "      <td>-0.074546</td>\n",
              "    </tr>\n",
              "    <tr>\n",
              "      <th>goal_difference</th>\n",
              "      <td>0.013030</td>\n",
              "      <td>0.036247</td>\n",
              "      <td>-0.096991</td>\n",
              "      <td>0.854413</td>\n",
              "      <td>-0.633283</td>\n",
              "      <td>-0.030743</td>\n",
              "      <td>-0.096920</td>\n",
              "      <td>-0.096920</td>\n",
              "      <td>1.000000</td>\n",
              "      <td>0.521758</td>\n",
              "    </tr>\n",
              "    <tr>\n",
              "      <th>game_results</th>\n",
              "      <td>-0.002399</td>\n",
              "      <td>0.003597</td>\n",
              "      <td>-0.042119</td>\n",
              "      <td>0.516216</td>\n",
              "      <td>-0.226516</td>\n",
              "      <td>-0.026535</td>\n",
              "      <td>-0.074546</td>\n",
              "      <td>-0.074546</td>\n",
              "      <td>0.521758</td>\n",
              "      <td>1.000000</td>\n",
              "    </tr>\n",
              "  </tbody>\n",
              "</table>\n",
              "</div>"
            ],
            "text/plain": [
              "                     date  home_team  ...  goal_difference  game_results\n",
              "date             1.000000   0.013666  ...         0.013030     -0.002399\n",
              "home_team        0.013666   1.000000  ...         0.036247      0.003597\n",
              "away_team       -0.013760   0.035432  ...        -0.096991     -0.042119\n",
              "home_score      -0.010266   0.007441  ...         0.854413      0.516216\n",
              "away_score      -0.040333  -0.056736  ...        -0.633283     -0.226516\n",
              "tournament      -0.070075  -0.073295  ...        -0.030743     -0.026535\n",
              "home_rank        0.199797  -0.011383  ...        -0.096920     -0.074546\n",
              "away_rank        0.199797  -0.011383  ...        -0.096920     -0.074546\n",
              "goal_difference  0.013030   0.036247  ...         1.000000      0.521758\n",
              "game_results    -0.002399   0.003597  ...         0.521758      1.000000\n",
              "\n",
              "[10 rows x 10 columns]"
            ]
          },
          "metadata": {
            "tags": []
          },
          "execution_count": 68
        }
      ]
    },
    {
      "cell_type": "markdown",
      "metadata": {
        "id": "KEYsLCMA1lUM",
        "colab_type": "text"
      },
      "source": [
        "from the matrix, most variables are weakly correlated, some are moderately corelated.\n",
        "this is good for modelling, we will get a good prediction.\n",
        "\n",
        "correlation of 1 along the diagonal makes sense"
      ]
    },
    {
      "cell_type": "code",
      "metadata": {
        "id": "HXWYOIXy0hc-",
        "colab_type": "code",
        "colab": {
          "base_uri": "https://localhost:8080/",
          "height": 770
        },
        "outputId": "ceb78f7d-66ec-4fdb-c89a-a99815297fcf"
      },
      "source": [
        "#check for multicolinearity using variance inflation factor\n",
        "# Plotting a heat map to show the VIF visually.\n",
        "plt.figure(figsize = (7,8), dpi = 100)\n",
        "vif = np.linalg.inv(corr.values)\n",
        "sns.heatmap(vif, annot = True, xticklabels=['date' ,'home_team_x' ,'away_team', 'home_score' , 'away_score','tournament','neutral','home_status','away_status','home_rank' ,'away_rank'], yticklabels=['date' ,'home_team_x' ,'away_team', 'home_score' , 'away_score','tournament','neutral','home_status','away_status','home_rank' ,'away_rank','year'])\n",
        "plt.title('Variance inflation factor', color = 'white' )\n",
        "plt.show()"
      ],
      "execution_count": 42,
      "outputs": [
        {
          "output_type": "display_data",
          "data": {
            "image/png": "[encoded data removed]",
            "text/plain": [
              "<Figure size 700x800 with 2 Axes>"
            ]
          },
          "metadata": {
            "tags": [],
            "needs_background": "light"
          }
        }
      ]
    },
    {
      "cell_type": "markdown",
      "metadata": {
        "id": "OaspszAd9lQH",
        "colab_type": "text"
      },
      "source": [
        "the VIF for each variable is found along the diagonal,they are below 5 which means there is low corelation with the independent variables . we can now build our model."
      ]
    },
    {
      "cell_type": "markdown",
      "metadata": {
        "id": "kVJnjUwEkfSL",
        "colab_type": "text"
      },
      "source": [
        "MODELLING\n",
        "\n",
        "Approach 1 = Polynomial Regression\n",
        "\n",
        "model 1 = predict how many goals the home team scores"
      ]
    },
    {
      "cell_type": "code",
      "metadata": {
        "id": "w3Uszad32Jet",
        "colab_type": "code",
        "colab": {}
      },
      "source": [
        "#splitting the dataset to the variables we need.\n",
        "X = df2['home_rank'].values.reshape(-1,1)\n",
        "y = df2['home_score'].values\n",
        "\n"
      ],
      "execution_count": 71,
      "outputs": []
    },
    {
      "cell_type": "code",
      "metadata": {
        "id": "O7BO101VGjr0",
        "colab_type": "code",
        "colab": {
          "base_uri": "https://localhost:8080/",
          "height": 296
        },
        "outputId": "b463a14e-e0ca-43b2-e312-b8075b515738"
      },
      "source": [
        "# let us visualise our rank and scores\n",
        "plt.scatter(X,y, color = 'blue') \n",
        "plt.title('Home Performance', color = 'white')\n",
        "plt.xlabel('Home_rank')\n",
        "plt.ylabel('Home_scores')\n",
        "plt.show()"
      ],
      "execution_count": 72,
      "outputs": [
        {
          "output_type": "display_data",
          "data": {
            "image/png": "[encoded data removed]",
            "text/plain": [
              "<Figure size 432x288 with 1 Axes>"
            ]
          },
          "metadata": {
            "tags": [],
            "needs_background": "light"
          }
        }
      ]
    },
    {
      "cell_type": "markdown",
      "metadata": {
        "id": "9CiTMfT3HC3c",
        "colab_type": "text"
      },
      "source": [
        "from what we see, it is likely that the home team scores less than 5,a few cases they would score higher than that. the relation between the home rank and home score is not linear from the look on the scatter plot. a straight line cannot fit across all points, we can apply linear regression."
      ]
    },
    {
      "cell_type": "code",
      "metadata": {
        "id": "tCZq0N7PEpdg",
        "colab_type": "code",
        "colab": {
          "base_uri": "https://localhost:8080/",
          "height": 35
        },
        "outputId": "94924443-5f2d-48e9-ad32-e9bd4c6b81b4"
      },
      "source": [
        "#getting our training and testing sets\n",
        "X_train, X_test, y_train, y_test = train_test_split(X, y, test_size=0.2, random_state=0)\n",
        "# fit our linear regression model to our data\n",
        "regressor = LinearRegression()\n",
        "regressor.fit(X_train, y_train)\n",
        "\n"
      ],
      "execution_count": 73,
      "outputs": [
        {
          "output_type": "execute_result",
          "data": {
            "text/plain": [
              "LinearRegression(copy_X=True, fit_intercept=True, n_jobs=None, normalize=False)"
            ]
          },
          "metadata": {
            "tags": []
          },
          "execution_count": 73
        }
      ]
    },
    {
      "cell_type": "code",
      "metadata": {
        "id": "JGM1-ZYkMsp5",
        "colab_type": "code",
        "colab": {
          "base_uri": "https://localhost:8080/",
          "height": 315
        },
        "outputId": "409c42e1-76c3-4479-9b68-05a4d10618b8"
      },
      "source": [
        "# we visualise our data before we fit it into a polynomial regressor\n",
        "plt.scatter(X, y, color='green')\n",
        "plt.plot(X, regressor.predict(X), color='yellow')\n",
        "plt.title('Home Scores Prediction', color = 'white')\n",
        "plt.xlabel('Home_rank')\n",
        "plt.ylabel('Home_scores')"
      ],
      "execution_count": 74,
      "outputs": [
        {
          "output_type": "execute_result",
          "data": {
            "text/plain": [
              "Text(0, 0.5, 'Home_scores')"
            ]
          },
          "metadata": {
            "tags": []
          },
          "execution_count": 74
        },
        {
          "output_type": "display_data",
          "data": {
            "image/png": "[encoded data removed]",
            "text/plain": [
              "<Figure size 432x288 with 1 Axes>"
            ]
          },
          "metadata": {
            "tags": [],
            "needs_background": "light"
          }
        }
      ]
    },
    {
      "cell_type": "markdown",
      "metadata": {
        "id": "EMw3Cx4bNIoE",
        "colab_type": "text"
      },
      "source": [
        "from above, we can see that the line of best fit does not pass majority of the points , a polynomial regressor would be an option.  it seem centrally placed but we can not make any conclusions."
      ]
    },
    {
      "cell_type": "code",
      "metadata": {
        "id": "xKzGxU6PE79l",
        "colab_type": "code",
        "colab": {
          "base_uri": "https://localhost:8080/",
          "height": 35
        },
        "outputId": "64a6d14b-2475-4668-8b79-c23dd32433db"
      },
      "source": [
        "#fitting  to our polynomial regressor\n",
        "# Fitting the polynomial features to the independent variable(x)\n",
        "# We will start  with a polynomial regression of degree 4\n",
        "\n",
        "pr = PolynomialFeatures(degree = 4)\n",
        "X_polyn = pr.fit_transform(X)\n",
        "\n",
        "pol_reg = LinearRegression()\n",
        "pol_reg.fit(X_polyn, y)"
      ],
      "execution_count": 75,
      "outputs": [
        {
          "output_type": "execute_result",
          "data": {
            "text/plain": [
              "LinearRegression(copy_X=True, fit_intercept=True, n_jobs=None, normalize=False)"
            ]
          },
          "metadata": {
            "tags": []
          },
          "execution_count": 75
        }
      ]
    },
    {
      "cell_type": "code",
      "metadata": {
        "id": "yj_fjmoVIG-5",
        "colab_type": "code",
        "colab": {
          "base_uri": "https://localhost:8080/",
          "height": 296
        },
        "outputId": "5a4d9b02-6f3b-4897-ec30-665798ef3b9b"
      },
      "source": [
        "#Visualize the Polynomial Regression results\n",
        "plt.scatter(X, y, color='blue') \n",
        "plt.plot(X, pol_reg.predict(X_polyn), color='purple')\n",
        "plt.title('home score prediction (Polynomial Regression)')\n",
        "plt.xlabel('home_rank')\n",
        "plt.ylabel('gome_scores')\n",
        "plt.show()"
      ],
      "execution_count": 76,
      "outputs": [
        {
          "output_type": "display_data",
          "data": {
            "image/png": "[encoded data removed]",
            "text/plain": [
              "<Figure size 432x288 with 1 Axes>"
            ]
          },
          "metadata": {
            "tags": [],
            "needs_background": "light"
          }
        }
      ]
    },
    {
      "cell_type": "markdown",
      "metadata": {
        "id": "jmTZO4DZOweM",
        "colab_type": "text"
      },
      "source": [
        "\n",
        "the line of best fit seem to have split the the points approximately half way.\n",
        "the line does not pass through each point but we can work with it."
      ]
    },
    {
      "cell_type": "code",
      "metadata": {
        "id": "tHZu-od4SllF",
        "colab_type": "code",
        "colab": {
          "base_uri": "https://localhost:8080/",
          "height": 72
        },
        "outputId": "6ed79dd1-ecc5-4e08-b673-5c2dc3351314"
      },
      "source": [
        "# assess the accuraccy of the model\n",
        "y_pred = regressor.predict(X_test)\n",
        "\n",
        "print('Mean Absolute Error:', metrics.mean_absolute_error(y_test, y_pred))  \n",
        "print('Mean Squared Error:', metrics.mean_squared_error(y_test, y_pred))  \n",
        "print('Root Mean Squared Error:', np.sqrt(metrics.mean_squared_error(y_test, y_pred)))"
      ],
      "execution_count": 77,
      "outputs": [
        {
          "output_type": "stream",
          "text": [
            "Mean Absolute Error: 1.3774134921364938\n",
            "Mean Squared Error: 7.174412624998492\n",
            "Root Mean Squared Error: 2.678509403567307\n"
          ],
          "name": "stdout"
        }
      ]
    },
    {
      "cell_type": "code",
      "metadata": {
        "id": "evP0YfGXOb-H",
        "colab_type": "code",
        "colab": {
          "base_uri": "https://localhost:8080/",
          "height": 244
        },
        "outputId": "4b582082-ee46-4b9e-9b36-3bbb96ee0ba0"
      },
      "source": [
        "# Making predictions using our model\n",
        "# Predict using linear regression\n",
        "lin_pred = X_polyn.predict([[6.5]])\n",
        "print('Linear prediction: %d' %lin_pred)\n",
        "\n",
        "# Predict using Polynomial Regression\n",
        "poly_pred = pol_reg.predict(poly_reg_4.fit_transform([[6.5]]))\n",
        "print('Polynomial prediction: %d' %poly_pred)\n",
        "\n",
        "# We can also get the predictions as an array\n",
        "poly_arr_pred = pol_reg.predict(poly_reg_4.fit_transform(X))"
      ],
      "execution_count": 50,
      "outputs": [
        {
          "output_type": "error",
          "ename": "AttributeError",
          "evalue": "ignored",
          "traceback": [
            "\u001b[0;31m---------------------------------------------------------------------------\u001b[0m",
            "\u001b[0;31mAttributeError\u001b[0m                            Traceback (most recent call last)",
            "\u001b[0;32m<ipython-input-50-c20bda8d57f4>\u001b[0m in \u001b[0;36m<module>\u001b[0;34m()\u001b[0m\n\u001b[1;32m      1\u001b[0m \u001b[0;31m# Making predictions using our model\u001b[0m\u001b[0;34m\u001b[0m\u001b[0;34m\u001b[0m\u001b[0;34m\u001b[0m\u001b[0m\n\u001b[1;32m      2\u001b[0m \u001b[0;31m# Predict using linear regression\u001b[0m\u001b[0;34m\u001b[0m\u001b[0;34m\u001b[0m\u001b[0;34m\u001b[0m\u001b[0m\n\u001b[0;32m----> 3\u001b[0;31m \u001b[0mlin_pred\u001b[0m \u001b[0;34m=\u001b[0m \u001b[0mX_polyn\u001b[0m\u001b[0;34m.\u001b[0m\u001b[0mpredict\u001b[0m\u001b[0;34m(\u001b[0m\u001b[0;34m[\u001b[0m\u001b[0;34m[\u001b[0m\u001b[0;36m6.5\u001b[0m\u001b[0;34m]\u001b[0m\u001b[0;34m]\u001b[0m\u001b[0;34m)\u001b[0m\u001b[0;34m\u001b[0m\u001b[0;34m\u001b[0m\u001b[0m\n\u001b[0m\u001b[1;32m      4\u001b[0m \u001b[0mprint\u001b[0m\u001b[0;34m(\u001b[0m\u001b[0;34m'Linear prediction: %d'\u001b[0m \u001b[0;34m%\u001b[0m\u001b[0mlin_pred\u001b[0m\u001b[0;34m)\u001b[0m\u001b[0;34m\u001b[0m\u001b[0;34m\u001b[0m\u001b[0m\n\u001b[1;32m      5\u001b[0m \u001b[0;34m\u001b[0m\u001b[0m\n",
            "\u001b[0;31mAttributeError\u001b[0m: 'numpy.ndarray' object has no attribute 'predict'"
          ]
        }
      ]
    },
    {
      "cell_type": "markdown",
      "metadata": {
        "id": "gjc-9tH8SHDs",
        "colab_type": "text"
      },
      "source": [
        "cross validating model 1"
      ]
    },
    {
      "cell_type": "code",
      "metadata": {
        "id": "qdK6g8c-SGf9",
        "colab_type": "code",
        "colab": {}
      },
      "source": [
        "#we use folds to cross validate\n",
        "folds = KFold(n_splits=5)"
      ],
      "execution_count": 78,
      "outputs": []
    },
    {
      "cell_type": "code",
      "metadata": {
        "id": "2a0r9Dv4P171",
        "colab_type": "code",
        "colab": {
          "base_uri": "https://localhost:8080/",
          "height": 290
        },
        "outputId": "133e6ecb-7ebe-4045-eca2-dfd91173ef51"
      },
      "source": [
        "# create array to store the RMSE values of each fold\n",
        "RMSES = []\n",
        "\n",
        "# create a counter\n",
        "count = 1\n",
        "\n",
        "for train_index, test_index in folds.split(X):\n",
        "    print(\"\\nTraining model \" + str(count))\n",
        "    \n",
        "    X_train, X_test = X[train_index], X[test_index]\n",
        "    y_train, y_test = y[train_index], y[test_index]\n",
        "    \n",
        "    # fit a regression model accordingly\n",
        "    regressor = LinearRegression()\n",
        "    regressor.fit(X_train, y_train)\n",
        "    \n",
        "    # assess the accuracy of the model\n",
        "    y_pred = regressor.predict(X_test)\n",
        "    \n",
        "    rmse_value = np.sqrt(metrics.mean_squared_error(y_test, y_pred))\n",
        "    RMSES.append(rmse_value)\n",
        "    \n",
        "    print('Model ' + str(count) + ' Root Mean Squared Error:',rmse_value)\n",
        "    count += 1"
      ],
      "execution_count": 79,
      "outputs": [
        {
          "output_type": "stream",
          "text": [
            "\n",
            "Training model 1\n",
            "Model 1 Root Mean Squared Error: 1.6699609561803246\n",
            "\n",
            "Training model 2\n",
            "Model 2 Root Mean Squared Error: 2.6615526756261123\n",
            "\n",
            "Training model 3\n",
            "Model 3 Root Mean Squared Error: 1.7338769279704407\n",
            "\n",
            "Training model 4\n",
            "Model 4 Root Mean Squared Error: 1.458302044498511\n",
            "\n",
            "Training model 5\n",
            "Model 5 Root Mean Squared Error: 1.9419717795832108\n"
          ],
          "name": "stdout"
        }
      ]
    },
    {
      "cell_type": "markdown",
      "metadata": {
        "id": "XKnRm123Was0",
        "colab_type": "text"
      },
      "source": [
        "from what we see above, the only model that is close to our initial RMSE is model 2. the rest of the models have RMSE lower than the initial, model 4 has a great difference, our model may not be very accurate."
      ]
    },
    {
      "cell_type": "code",
      "metadata": {
        "id": "069tcClgXb-r",
        "colab_type": "code",
        "colab": {
          "base_uri": "https://localhost:8080/",
          "height": 35
        },
        "outputId": "7c82b334-faeb-40de-bc4a-ea2392c48b41"
      },
      "source": [
        "#check the mean of the errors\n",
        "np.mean(RMSES)"
      ],
      "execution_count": 80,
      "outputs": [
        {
          "output_type": "execute_result",
          "data": {
            "text/plain": [
              "1.8931328767717197"
            ]
          },
          "metadata": {
            "tags": []
          },
          "execution_count": 80
        }
      ]
    },
    {
      "cell_type": "markdown",
      "metadata": {
        "id": "er0-msk6X0SA",
        "colab_type": "text"
      },
      "source": [
        "the mean of RMSE is smaller than the initial, but the gap in between is not that big."
      ]
    },
    {
      "cell_type": "markdown",
      "metadata": {
        "id": "ySMYzXLHSgdd",
        "colab_type": "text"
      },
      "source": [
        "residual plots and heteroscedasticity"
      ]
    },
    {
      "cell_type": "code",
      "metadata": {
        "id": "1zVezWP5Sf3B",
        "colab_type": "code",
        "colab": {}
      },
      "source": [
        "#set prediction\n",
        "regressor = LinearRegression()\n",
        "regressor.fit(X_train, y_train)\n",
        "home_score_predict = regressor.predict(X_test)\n"
      ],
      "execution_count": 82,
      "outputs": []
    },
    {
      "cell_type": "code",
      "metadata": {
        "id": "CZsB5BB3TUfx",
        "colab_type": "code",
        "colab": {}
      },
      "source": [
        "#getting the residual \n",
        "residual_score = np.subtract(home_score_predict, y_test)"
      ],
      "execution_count": 96,
      "outputs": []
    },
    {
      "cell_type": "code",
      "metadata": {
        "id": "_ytdZYB_X6S6",
        "colab_type": "code",
        "colab": {
          "base_uri": "https://localhost:8080/",
          "height": 35
        },
        "outputId": "58ee354c-a057-4404-8fe0-bdab7bff79d7"
      },
      "source": [
        "\n",
        "# let's conduct a Bartlett's test for heteroscedasticity\n",
        "test_result, p_value = sp.stats.bartlett(home_score_predict, residual_score)\n",
        "\n",
        "#  compute a critical value of the chi squared distribution\n",
        "degree_of_freedom = len(home_score_predict) - 1\n",
        "p_home = 1 - p_value  \n",
        "\n",
        "critical_value = sp.stats.chi2.ppf(p_home, degree_of_freedom)\n",
        "print(critical_value)"
      ],
      "execution_count": 97,
      "outputs": [
        {
          "output_type": "stream",
          "text": [
            "inf\n"
          ],
          "name": "stdout"
        }
      ]
    },
    {
      "cell_type": "code",
      "metadata": {
        "id": "_yFx-ICuY8w6",
        "colab_type": "code",
        "colab": {
          "base_uri": "https://localhost:8080/",
          "height": 35
        },
        "outputId": "081a10d1-17d4-4370-eafa-3b38f882d7af"
      },
      "source": [
        "if (test_result > critical_value):\n",
        "  print(\"The variances are heterogeneous. reassess the model.\")\n",
        "else:\n",
        "  print(\"The variances are homogeneous. The model passes the test.\")"
      ],
      "execution_count": 111,
      "outputs": [
        {
          "output_type": "stream",
          "text": [
            "The variances are homogeneous. The model passes the test.\n"
          ],
          "name": "stdout"
        }
      ]
    },
    {
      "cell_type": "markdown",
      "metadata": {
        "id": "jDpHRuvfjCHf",
        "colab_type": "text"
      },
      "source": [
        "Model 2 ; predict how many goals the away team scores"
      ]
    },
    {
      "cell_type": "code",
      "metadata": {
        "id": "0sTqLTaPQ3QN",
        "colab_type": "code",
        "colab": {}
      },
      "source": [
        "#splitting the dataset to the variables we need.\n",
        "Z = df_encoded['away_rank'].values.reshape(-1,1)\n",
        "t = df_encoded['away_score'].values"
      ],
      "execution_count": 103,
      "outputs": []
    },
    {
      "cell_type": "code",
      "metadata": {
        "id": "eYfwFhVlZX33",
        "colab_type": "code",
        "colab": {
          "base_uri": "https://localhost:8080/",
          "height": 296
        },
        "outputId": "c0209b2b-e730-4be0-96b2-892b31fc75b5"
      },
      "source": [
        "# let us visualise our rank and scores\n",
        "plt.scatter(X,y, color = 'blue') \n",
        "plt.title('away Performance', color = 'white')\n",
        "plt.xlabel('away_rank')\n",
        "plt.ylabel('away_scores')\n",
        "plt.show()"
      ],
      "execution_count": 101,
      "outputs": [
        {
          "output_type": "display_data",
          "data": {
            "image/png": "[encoded data removed]",
            "text/plain": [
              "<Figure size 432x288 with 1 Axes>"
            ]
          },
          "metadata": {
            "tags": [],
            "needs_background": "light"
          }
        }
      ]
    },
    {
      "cell_type": "markdown",
      "metadata": {
        "id": "BIyqnvczZx4B",
        "colab_type": "text"
      },
      "source": [
        "from the scatter plot, the points do not linear."
      ]
    },
    {
      "cell_type": "code",
      "metadata": {
        "id": "PgCfH1LMZt_n",
        "colab_type": "code",
        "colab": {
          "base_uri": "https://localhost:8080/",
          "height": 35
        },
        "outputId": "1cb58008-ff4e-40c3-b630-cf3da25ab4c4"
      },
      "source": [
        "#getting our training and testing sets\n",
        "Z_train, Z_test, t_train, t_test = train_test_split(Z, t, test_size=0.2, random_state=0)\n",
        "# fit our  model accordingly\n",
        "regressor1 = LinearRegression()\n",
        "regressor1.fit(Z_train, t_train)"
      ],
      "execution_count": 104,
      "outputs": [
        {
          "output_type": "execute_result",
          "data": {
            "text/plain": [
              "LinearRegression(copy_X=True, fit_intercept=True, n_jobs=None, normalize=False)"
            ]
          },
          "metadata": {
            "tags": []
          },
          "execution_count": 104
        }
      ]
    },
    {
      "cell_type": "code",
      "metadata": {
        "id": "K35llnMIaTUQ",
        "colab_type": "code",
        "colab": {}
      },
      "source": [
        "# assess the accuraccy of the model\n",
        "t_pred = regressor1.predict(Z_test)"
      ],
      "execution_count": 67,
      "outputs": []
    },
    {
      "cell_type": "code",
      "metadata": {
        "id": "Yi-QECkVbIrW",
        "colab_type": "code",
        "colab": {
          "base_uri": "https://localhost:8080/",
          "height": 72
        },
        "outputId": "cba5d334-679a-489d-b0d0-8ddcf23ce3fb"
      },
      "source": [
        "#obtaine the mean errors\n",
        "print('Mean Absolute Error:', metrics.mean_absolute_error(t_test, t_pred))  \n",
        "print('Mean Squared Error:', metrics.mean_squared_error(t_test, t_pred))  \n",
        "print('Root Mean Squared Error:', np.sqrt(metrics.mean_squared_error(t_test, t_pred)))"
      ],
      "execution_count": 68,
      "outputs": [
        {
          "output_type": "stream",
          "text": [
            "Mean Absolute Error: 0.7850887826069165\n",
            "Mean Squared Error: 0.9476296044657095\n",
            "Root Mean Squared Error: 0.9734626877624584\n"
          ],
          "name": "stdout"
        }
      ]
    },
    {
      "cell_type": "markdown",
      "metadata": {
        "id": "2oWMSf32bg3Z",
        "colab_type": "text"
      },
      "source": [
        "we have initial RMSE of 0.97346268 "
      ]
    },
    {
      "cell_type": "markdown",
      "metadata": {
        "id": "RxnnjBKIb4sm",
        "colab_type": "text"
      },
      "source": [
        "cross validating model 2"
      ]
    },
    {
      "cell_type": "code",
      "metadata": {
        "id": "KwqKB9DfbeZh",
        "colab_type": "code",
        "colab": {
          "base_uri": "https://localhost:8080/",
          "height": 290
        },
        "outputId": "7f6c539b-440b-4600-bdcd-058b0fc016d2"
      },
      "source": [
        "# create array to store the RMSE values of each fold\n",
        "RMSES1 = []\n",
        "\n",
        "# create a counter\n",
        "count1 = 1\n",
        "\n",
        "for train_index, test_index in folds.split(Z):\n",
        "    print(\"\\nTraining model \" + str(count1))\n",
        "    \n",
        "    Z_train, Z_test = Z[train_index], Z[test_index]\n",
        "    t_train, t_test = t[train_index], t[test_index]\n",
        "    \n",
        "    # fit a regression model accordingly\n",
        "    regressor1 = LinearRegression()\n",
        "    regressor1.fit(Z_train, t_train)\n",
        "    \n",
        "    # assess the accuracy of the model\n",
        "    t_pred = regressor1.predict(Z_test)\n",
        "    \n",
        "    rmse_value1 = np.sqrt(metrics.mean_squared_error(t_test, t_pred))\n",
        "    RMSES1.append(rmse_value)\n",
        "    \n",
        "    print('Model ' + str(count1) + ' Root Mean Squared Error:',rmse_value1)\n",
        "    count1 += 1"
      ],
      "execution_count": 75,
      "outputs": [
        {
          "output_type": "stream",
          "text": [
            "\n",
            "Training model 1\n",
            "Model 1 Root Mean Squared Error: 1.091849162144155\n",
            "\n",
            "Training model 2\n",
            "Model 2 Root Mean Squared Error: 1.2263322679163244\n",
            "\n",
            "Training model 3\n",
            "Model 3 Root Mean Squared Error: 1.2234775626032324\n",
            "\n",
            "Training model 4\n",
            "Model 4 Root Mean Squared Error: 1.0417477291226307\n",
            "\n",
            "Training model 5\n",
            "Model 5 Root Mean Squared Error: 1.1120271447773755\n"
          ],
          "name": "stdout"
        }
      ]
    },
    {
      "cell_type": "markdown",
      "metadata": {
        "id": "i_rcqhMSdJd8",
        "colab_type": "text"
      },
      "source": [
        "the RMSE are sligthly higher than the initial RMSE, the difference is small, model 4 is the closest to the initial RMSE."
      ]
    },
    {
      "cell_type": "code",
      "metadata": {
        "id": "_3szUcDRcnMM",
        "colab_type": "code",
        "colab": {
          "base_uri": "https://localhost:8080/",
          "height": 35
        },
        "outputId": "a1f26311-bd44-4dbe-cec7-0617a0b70df2"
      },
      "source": [
        "#mean of the RMSE1\n",
        "np.mean(RMSES1)"
      ],
      "execution_count": 76,
      "outputs": [
        {
          "output_type": "execute_result",
          "data": {
            "text/plain": [
              "1.9419717795832105"
            ]
          },
          "metadata": {
            "tags": []
          },
          "execution_count": 76
        }
      ]
    },
    {
      "cell_type": "markdown",
      "metadata": {
        "id": "Cxu0vNWtenf5",
        "colab_type": "text"
      },
      "source": [
        "the mean of the RMSE is bigger than the initial mean"
      ]
    },
    {
      "cell_type": "markdown",
      "metadata": {
        "id": "PzPNBJjlZolY",
        "colab_type": "text"
      },
      "source": [
        "heteroscedasticity and residuals"
      ]
    },
    {
      "cell_type": "code",
      "metadata": {
        "id": "sXIJBwV_Z0oU",
        "colab_type": "code",
        "colab": {}
      },
      "source": [
        "#set prediction\n",
        "regressor1 = LinearRegression()\n",
        "regressor1.fit(Z_train, t_train)\n",
        "away_score_predict = regressor1.predict(Z_test)"
      ],
      "execution_count": 105,
      "outputs": []
    },
    {
      "cell_type": "code",
      "metadata": {
        "id": "z2JpwB9gbM9C",
        "colab_type": "code",
        "colab": {}
      },
      "source": [
        "#getting the residual\n",
        "residual_score1 = np.subtract(away_score_predict, t_test)"
      ],
      "execution_count": 106,
      "outputs": []
    },
    {
      "cell_type": "code",
      "metadata": {
        "id": "7-QPJ3YxbkAv",
        "colab_type": "code",
        "colab": {
          "base_uri": "https://localhost:8080/",
          "height": 35
        },
        "outputId": "62cbee48-ee44-4fe9-9ca0-e2b69b524d6e"
      },
      "source": [
        "# let's conduct a Bartlett's test for heteroscedasticity\n",
        "test_result1, p_value1 = sp.stats.bartlett(away_score_predict, residual_score1)\n",
        "\n",
        "#  compute a critical value of the chi squared distribution\n",
        "degree_of_freedom1 = len(away_score_predict) - 1\n",
        "p_away = 1 - p_value1\n",
        "\n",
        "critical_value1 = sp.stats.chi2.ppf(p_away, degree_of_freedom1)\n",
        "print(critical_value1)"
      ],
      "execution_count": 107,
      "outputs": [
        {
          "output_type": "stream",
          "text": [
            "inf\n"
          ],
          "name": "stdout"
        }
      ]
    },
    {
      "cell_type": "code",
      "metadata": {
        "id": "KkUpmBXzb5_X",
        "colab_type": "code",
        "colab": {
          "base_uri": "https://localhost:8080/",
          "height": 35
        },
        "outputId": "51042fb8-26dd-417f-e428-a4e4575f1056"
      },
      "source": [
        "if (test_result1 > critical_value1):\n",
        "  print(\"The variances are heterogeneous. reassess the model.\")\n",
        "else:\n",
        "  print(\"The variances are homogeneous. The model passes the test.\")"
      ],
      "execution_count": 112,
      "outputs": [
        {
          "output_type": "stream",
          "text": [
            "The variances are homogeneous. The model passes the test.\n"
          ],
          "name": "stdout"
        }
      ]
    },
    {
      "cell_type": "markdown",
      "metadata": {
        "id": "t4allM-sevt8",
        "colab_type": "text"
      },
      "source": [
        "LOGISTIC REGRESSION\n",
        "\n",
        "figure out if the home team lost, won or draw.\n",
        "\n",
        "we already perfomed feature engineering and obtained the goal_results which we are going to use in our prediction."
      ]
    },
    {
      "cell_type": "code",
      "metadata": {
        "id": "g1hIpudfd1jk",
        "colab_type": "code",
        "colab": {
          "base_uri": "https://localhost:8080/",
          "height": 198
        },
        "outputId": "8839f19c-eeed-4dc7-a4f0-c60bcbc54192"
      },
      "source": [
        "#we want to predict the score if it is a win, draw or lose. we can drop the other columns\n",
        "df3 = df_encoded.drop(columns = ['date', 'home_team', 'away_team', 'tournament',\n",
        "                                         'home_rank', 'away_rank'])\n",
        "df3.head()"
      ],
      "execution_count": 89,
      "outputs": [
        {
          "output_type": "execute_result",
          "data": {
            "text/html": [
              "<div>\n",
              "<style scoped>\n",
              "    .dataframe tbody tr th:only-of-type {\n",
              "        vertical-align: middle;\n",
              "    }\n",
              "\n",
              "    .dataframe tbody tr th {\n",
              "        vertical-align: top;\n",
              "    }\n",
              "\n",
              "    .dataframe thead th {\n",
              "        text-align: right;\n",
              "    }\n",
              "</style>\n",
              "<table border=\"1\" class=\"dataframe\">\n",
              "  <thead>\n",
              "    <tr style=\"text-align: right;\">\n",
              "      <th></th>\n",
              "      <th>home_score</th>\n",
              "      <th>away_score</th>\n",
              "      <th>goal_difference</th>\n",
              "      <th>game_results</th>\n",
              "    </tr>\n",
              "  </thead>\n",
              "  <tbody>\n",
              "    <tr>\n",
              "      <th>0</th>\n",
              "      <td>3</td>\n",
              "      <td>1</td>\n",
              "      <td>10</td>\n",
              "      <td>2</td>\n",
              "    </tr>\n",
              "    <tr>\n",
              "      <th>1</th>\n",
              "      <td>1</td>\n",
              "      <td>1</td>\n",
              "      <td>8</td>\n",
              "      <td>0</td>\n",
              "    </tr>\n",
              "    <tr>\n",
              "      <th>2</th>\n",
              "      <td>5</td>\n",
              "      <td>0</td>\n",
              "      <td>13</td>\n",
              "      <td>2</td>\n",
              "    </tr>\n",
              "    <tr>\n",
              "      <th>3</th>\n",
              "      <td>1</td>\n",
              "      <td>0</td>\n",
              "      <td>9</td>\n",
              "      <td>2</td>\n",
              "    </tr>\n",
              "    <tr>\n",
              "      <th>4</th>\n",
              "      <td>1</td>\n",
              "      <td>3</td>\n",
              "      <td>6</td>\n",
              "      <td>1</td>\n",
              "    </tr>\n",
              "  </tbody>\n",
              "</table>\n",
              "</div>"
            ],
            "text/plain": [
              "   home_score  away_score  goal_difference  game_results\n",
              "0           3           1               10             2\n",
              "1           1           1                8             0\n",
              "2           5           0               13             2\n",
              "3           1           0                9             2\n",
              "4           1           3                6             1"
            ]
          },
          "metadata": {
            "tags": []
          },
          "execution_count": 89
        }
      ]
    },
    {
      "cell_type": "code",
      "metadata": {
        "id": "zhntmRmIIEey",
        "colab_type": "code",
        "colab": {}
      },
      "source": [
        "#splitting our data to train and test\n",
        "P = df3.drop(['game_results'], axis = 1)\n",
        "q = df3.game_results\n",
        "\n",
        "\n",
        "P_train, P_test, q_train, q_test = train_test_split(P, q, test_size = .2, random_state=0)"
      ],
      "execution_count": 90,
      "outputs": []
    },
    {
      "cell_type": "code",
      "metadata": {
        "id": "37ctmm0RU2EM",
        "colab_type": "code",
        "colab": {
          "base_uri": "https://localhost:8080/",
          "height": 108
        },
        "outputId": "aa1f0c34-acc5-4053-8c33-c02c4fc544dd"
      },
      "source": [
        "# Fitting our logistic regression  model to our train sets \n",
        "LogReg = LogisticRegression()\n",
        "LogReg.fit(P_train, q_train)"
      ],
      "execution_count": 91,
      "outputs": [
        {
          "output_type": "execute_result",
          "data": {
            "text/plain": [
              "LogisticRegression(C=1.0, class_weight=None, dual=False, fit_intercept=True,\n",
              "                   intercept_scaling=1, l1_ratio=None, max_iter=100,\n",
              "                   multi_class='auto', n_jobs=None, penalty='l2',\n",
              "                   random_state=None, solver='lbfgs', tol=0.0001, verbose=0,\n",
              "                   warm_start=False)"
            ]
          },
          "metadata": {
            "tags": []
          },
          "execution_count": 91
        }
      ]
    },
    {
      "cell_type": "code",
      "metadata": {
        "id": "B5jjGn3lVkD_",
        "colab_type": "code",
        "colab": {}
      },
      "source": [
        "#using our model to make predictions\n",
        "q_pred = LogReg.predict(P_test)"
      ],
      "execution_count": 92,
      "outputs": []
    },
    {
      "cell_type": "code",
      "metadata": {
        "id": "jXKKv5WDV3zI",
        "colab_type": "code",
        "colab": {
          "base_uri": "https://localhost:8080/",
          "height": 72
        },
        "outputId": "4b2f1b0f-2073-46b0-f438-11af62d9ffa3"
      },
      "source": [
        "# Evaluating the model\n",
        "#\n",
        "from sklearn.metrics import confusion_matrix\n",
        "confusion_matrix = confusion_matrix(q_test, q_pred)\n",
        "confusion_matrix"
      ],
      "execution_count": 94,
      "outputs": [
        {
          "output_type": "execute_result",
          "data": {
            "text/plain": [
              "array([[ 51,   0,   0],\n",
              "       [  0,  41,   0],\n",
              "       [  0,   0, 100]])"
            ]
          },
          "metadata": {
            "tags": []
          },
          "execution_count": 94
        }
      ]
    },
    {
      "cell_type": "markdown",
      "metadata": {
        "id": "MxFRbVN3W2nG",
        "colab_type": "text"
      },
      "source": [
        "from our confusion matrix, the right predictions would be 51,41 and 100"
      ]
    },
    {
      "cell_type": "markdown",
      "metadata": {
        "id": "0f2aAR0ZXOsA",
        "colab_type": "text"
      },
      "source": [
        "CONCLUSION\n",
        "\n",
        "from our prections, our models accurately predicts the scores, when we check the accuracy score, our model could be overfitt, we can try predicting with another  model to compare the outcomes."
      ]
    }
  ]
}